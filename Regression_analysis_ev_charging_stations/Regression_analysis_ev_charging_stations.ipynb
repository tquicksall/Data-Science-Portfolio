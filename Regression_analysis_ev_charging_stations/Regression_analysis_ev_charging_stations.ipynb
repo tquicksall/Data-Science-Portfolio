{
 "cells": [
  {
   "cell_type": "markdown",
   "id": "8de64259",
   "metadata": {},
   "source": [
    "# Troy Quicksall\n",
    "# DSC 550\n",
    "# Term Project Milestone 1"
   ]
  },
  {
   "cell_type": "markdown",
   "id": "a2298a04",
   "metadata": {},
   "source": [
    "## Project Idea"
   ]
  },
  {
   "cell_type": "markdown",
   "id": "3a42e535",
   "metadata": {},
   "source": [
    "The idea I have for my project involves analyzing and creating a model regarding behavior and usage of electric vehicle charging stations. The business problem I intend to solve is being able to predict the best characteristics and locations for charging stations in order to maximize profit and use of each charging station. A company looking to install electric vehicle charging stations would be able to use this model in order to know what station characteristics like platform (android, iOS, etc.), fee, currency, etc.  would be best and where certain characteristics perform better. \n",
    "\n",
    "The major questions that would need to be answered are how factors like distance from a user’s home to station, fee, station type, platform used, and charge time affect things like total cost and total energy used per transaction. We want to know which of these characteristics and other ones like them result in the highest sale amounts. \n",
    "\n",
    "I plan on piecing together a couple of different datasets. One is a dataset that takes activity of several electric vehicle drivers across over one hundred charging stations of different types. The other is a dataset that observes user behavior on a single college campus. The goal of using the different datasets is to gauge if there is a difference in behavior when distance isn’t a factor (students are already on campus with charging stations in one scenario), as well as piece together variables that aren’t in both datasets. By comparing models from both I can conclude which model best meets the target of predicting max sales.\n"
   ]
  },
  {
   "cell_type": "markdown",
   "id": "20d657d4",
   "metadata": {},
   "source": [
    "### Importing the Data"
   ]
  },
  {
   "cell_type": "code",
   "execution_count": 1,
   "id": "cf6ad4fe",
   "metadata": {},
   "outputs": [
    {
     "name": "stdout",
     "output_type": "stream",
     "text": [
      "  Label 01 Lable 02      Org Name       Start Date Start Time Zone  \\\n",
      "0        A        A  Georgia Tech  2/13/2015 13:30             EST   \n",
      "1        A        A  Georgia Tech  2/13/2015 12:47             EST   \n",
      "2        A        A  Georgia Tech  2/13/2015 11:50             EST   \n",
      "3        A        A  Georgia Tech   2/13/2015 7:43             EST   \n",
      "4        A        A  Georgia Tech   2/13/2015 9:33             EST   \n",
      "\n",
      "          End Date End Time Zone Transaction Date (Pacific Time)  \\\n",
      "0  2/13/2015 14:42           EST                 2/13/2015 11:46   \n",
      "1  2/13/2015 13:45           EST                 2/13/2015 10:46   \n",
      "2  2/13/2015 13:02           EST                 2/13/2015 10:04   \n",
      "3  2/13/2015 12:34           EST                  2/13/2015 9:36   \n",
      "4  2/13/2015 11:32           EST                  2/13/2015 8:32   \n",
      "\n",
      "  Total Duration (hh:mm:ss) Charging Time (hh:mm:ss)  ...  Postal Code  \\\n",
      "0                   1:12:10                  1:11:50  ...        30308   \n",
      "1                   0:58:39                  0:58:15  ...        30308   \n",
      "2                   1:11:40                  1:11:24  ...        30308   \n",
      "3                   4:50:48                  3:19:30  ...        30308   \n",
      "4                   1:58:46                  1:58:14  ...        30308   \n",
      "\n",
      "         Country  Label 07 Label 08  Currency   Fee             Ended By  \\\n",
      "0  United States         A        A       USD  1.02  Plug Out at Vehicle   \n",
      "1  United States         A        A       USD  0.83             Customer   \n",
      "2  United States         A        A       USD  1.02  Plug Out at Vehicle   \n",
      "3  United States         A        A       USD  4.12  Plug Out at Vehicle   \n",
      "4  United States         A        A       USD  1.68  Plug Out at Vehicle   \n",
      "\n",
      "  Plug In Event Id Driver Postal Code   User ID  \n",
      "0              540              30102  254811.0  \n",
      "1              539              30269  323807.0  \n",
      "2              538              30253  345151.0  \n",
      "3              536              30062  261355.0  \n",
      "4              537                NaN       NaN  \n",
      "\n",
      "[5 rows x 30 columns]\n",
      "   sessionId  kwhTotal  dollars              created                ended  \\\n",
      "0    1366563      7.78     0.00  0014-11-18 15:40:26  0014-11-18 17:11:04   \n",
      "1    3075723      9.74     0.00  0014-11-19 17:40:26  0014-11-19 19:51:04   \n",
      "2    4228788      6.76     0.58  0014-11-21 12:05:46  0014-11-21 16:46:04   \n",
      "3    3173284      6.17     0.00  0014-12-03 19:16:12  0014-12-03 21:02:18   \n",
      "4    3266500      0.93     0.00  0014-12-11 20:56:11  0014-12-11 21:14:06   \n",
      "\n",
      "   startTime  endTime  chargeTimeHrs weekday platform  ...  managerVehicle  \\\n",
      "0         15       17       1.510556     Tue  android  ...               0   \n",
      "1         17       19       2.177222     Wed  android  ...               0   \n",
      "2         12       16       4.671667     Fri  android  ...               0   \n",
      "3         19       21       1.768333     Wed  android  ...               0   \n",
      "4         20       21       0.298611     Thu  android  ...               0   \n",
      "\n",
      "   facilityType  Mon  Tues  Wed  Thurs  Fri  Sat  Sun  reportedZip  \n",
      "0             3    0     1    0      0    0    0    0            0  \n",
      "1             3    0     0    1      0    0    0    0            0  \n",
      "2             3    0     0    0      0    1    0    0            0  \n",
      "3             3    0     0    1      0    0    0    0            0  \n",
      "4             3    0     0    0      1    0    0    0            0  \n",
      "\n",
      "[5 rows x 24 columns]\n"
     ]
    }
   ],
   "source": [
    "import pandas as pd\n",
    "import matplotlib.pyplot as plt\n",
    "\n",
    "campus_ev_charging_df = pd.read_csv('EV-Charging-Raw-Data.csv')\n",
    "ev_charging_station_df = pd.read_csv('station_data_dataverse.csv')\n",
    "\n",
    "print(campus_ev_charging_df.head())\n",
    "print(ev_charging_station_df.head())"
   ]
  },
  {
   "cell_type": "markdown",
   "id": "08780f23",
   "metadata": {},
   "source": [
    "## Gasoline Savings vs. Fee (Campus Charging Stations)"
   ]
  },
  {
   "cell_type": "code",
   "execution_count": 2,
   "id": "d1c847c0",
   "metadata": {
    "scrolled": true
   },
   "outputs": [
    {
     "data": {
      "image/png": "[encoded data removed]",
      "text/plain": [
       "<Figure size 640x480 with 1 Axes>"
      ]
     },
     "metadata": {},
     "output_type": "display_data"
    }
   ],
   "source": [
    "# using the gasoline savings columns as x axis and energy used in transaction as the y\n",
    "\n",
    "# renaming columns\n",
    "campus_ev_charging_df = campus_ev_charging_df.rename(columns={'Gasoline Savings (gallons)': 'gas_svngs',\n",
    "                                                              'Energy (kWh)': 'energy'})\n",
    "\n",
    "\n",
    "plt.scatter(campus_ev_charging_df['gas_svngs'], campus_ev_charging_df['Fee'])\n",
    "plt.xlabel('Gasoline Savings (gallons)')\n",
    "plt.ylabel('Fee USD')\n",
    "plt.title('Gasoline Savings vs. Fee (Campus Charging Stations)')\n",
    "plt.show()"
   ]
  },
  {
   "cell_type": "markdown",
   "id": "ddfca2ef",
   "metadata": {},
   "source": [
    "What we can gather from this graph is that there a loose linear correlation between that gasoline savings provided by the charging session and the fee charged to the user. This means including the savings amount for for the user would be important to explore and include in any model wanting to figure out how to maximize profits through sales/fees."
   ]
  },
  {
   "cell_type": "markdown",
   "id": "bd543d0d",
   "metadata": {},
   "source": [
    "## Histogram of Energy Used (kWh)"
   ]
  },
  {
   "cell_type": "code",
   "execution_count": 3,
   "id": "1bf67b39",
   "metadata": {},
   "outputs": [
    {
     "data": {
      "image/png": "[encoded data removed]",
      "text/plain": [
       "<Figure size 640x480 with 1 Axes>"
      ]
     },
     "metadata": {},
     "output_type": "display_data"
    }
   ],
   "source": [
    "num_bins = 100\n",
    "plt.hist(campus_ev_charging_df['energy'],num_bins, \n",
    "                            density = 1, \n",
    "                            color ='green',\n",
    "                            alpha = 0.7)\n",
    "plt.xlabel('Energy Used in Charging Session')\n",
    "plt.ylabel('Frequency')\n",
    "plt.title('Histogram of Energy Used (kWh)')\n",
    "plt.show()"
   ]
  },
  {
   "cell_type": "markdown",
   "id": "55919aec",
   "metadata": {},
   "source": [
    "The histogram shows us that the distribution of the energy used is roughly bell-shaped meaning most of the transactions that took place are in the 0 - 20 kWh range. However, the data is right-skewed meaning the long tail is on the right side of the distribution. This occurs because there can be no transactions that are less than zero, but there are a few large numbers that skew the data to the right which will cause an overestimation in the mean. This means I may have to remove some of the extremely large outliers in order to get a more accurate model."
   ]
  },
  {
   "cell_type": "markdown",
   "id": "b425ba1c",
   "metadata": {},
   "source": [
    "## Histogram of Charge Time"
   ]
  },
  {
   "cell_type": "code",
   "execution_count": 4,
   "id": "d1c1b7c6",
   "metadata": {},
   "outputs": [
    {
     "data": {
      "text/plain": [
       "1361     0.012500\n",
       "2235     0.012778\n",
       "2234     0.013333\n",
       "379      0.014722\n",
       "2236     0.015000\n",
       "          ...    \n",
       "2581     9.320278\n",
       "2530     9.836944\n",
       "2523    10.488333\n",
       "2553    11.586944\n",
       "173     55.238056\n",
       "Name: chargeTimeHrs, Length: 3395, dtype: float64"
      ]
     },
     "execution_count": 4,
     "metadata": {},
     "output_type": "execute_result"
    }
   ],
   "source": [
    "ev_charging_station_df['chargeTimeHrs'].sort_values()"
   ]
  },
  {
   "cell_type": "markdown",
   "id": "a3047a35",
   "metadata": {},
   "source": [
    "Given there is only one outlier above 50 and the next highest is ~ 11 I will remove it to get an accurate look at charge time distrobution"
   ]
  },
  {
   "cell_type": "code",
   "execution_count": 5,
   "id": "64bd6f66",
   "metadata": {},
   "outputs": [
    {
     "data": {
      "image/png": "[encoded data removed]",
      "text/plain": [
       "<Figure size 640x480 with 1 Axes>"
      ]
     },
     "metadata": {},
     "output_type": "display_data"
    }
   ],
   "source": [
    "ev_charging_station_df = ev_charging_station_df.loc[ev_charging_station_df['chargeTimeHrs'] < 50]\n",
    "plt.hist(ev_charging_station_df['chargeTimeHrs'],num_bins, \n",
    "                            density = 1, \n",
    "                            color ='green',\n",
    "                            alpha = 0.7)\n",
    "plt.xlabel('Time Spent Charging (hours)')\n",
    "plt.ylabel('Frequency')\n",
    "plt.title('Histogram of Charge Time (hours)')\n",
    "plt.show()"
   ]
  },
  {
   "cell_type": "markdown",
   "id": "e376be92",
   "metadata": {},
   "source": [
    "The histogram shows us that the distribution of the charge times is also roughly bell-shaped meaning most of the transactions that took place are in the 0 - 6 hour range. This data is also right-skewed. This occurs because there can be no transaction that takes negative time, but there are a few large numbers that skew the data to the right which will cause an overestimation in the mean. However, overall I believe this distribution combined with other factors will help accurately train the model, since the skew is not as far right as the previous histogram."
   ]
  },
  {
   "cell_type": "markdown",
   "id": "ad1bea28",
   "metadata": {},
   "source": [
    "## Distance vs. Amount Paid (USD)"
   ]
  },
  {
   "cell_type": "code",
   "execution_count": 6,
   "id": "656a5037",
   "metadata": {},
   "outputs": [
    {
     "data": {
      "image/png": "[encoded data removed]",
      "text/plain": [
       "<Figure size 640x480 with 1 Axes>"
      ]
     },
     "metadata": {},
     "output_type": "display_data"
    }
   ],
   "source": [
    "plt.scatter(ev_charging_station_df['distance'], ev_charging_station_df['dollars'])\n",
    "plt.xlabel('Distance From User to Station')\n",
    "plt.ylabel('Total Sale Price (USD)')\n",
    "plt.title('Distance vs. Amount Paid (USD)')\n",
    "plt.show()"
   ]
  },
  {
   "cell_type": "markdown",
   "id": "43e0bc1c",
   "metadata": {},
   "source": [
    "My initial interpretation of the scatter is that there is little to no correlation between how far the charging station is from the user, and how much the user ends up spending. A few of the largest sales do take place at short distances, but there is still very little correlation. This will be helpful to know later on when considering whether to include distance as a variable in the model or not. If indeed distance plays no role, the company installing these stations will not have to consider placement too much."
   ]
  },
  {
   "cell_type": "markdown",
   "id": "cfa49623",
   "metadata": {},
   "source": [
    "## Conclusion"
   ]
  },
  {
   "cell_type": "markdown",
   "id": "852732e2",
   "metadata": {},
   "source": [
    "After my analysis of the graphs provided I feel I have found good datasets, and gained a good initial understanding of relationships/distributions that will help me get started on later steps. After seeing the distributions of some key variables, I feel that the distributions will allow for a pretty accurate model after some management of outliers. Additionally I feel I have gained a good early understanding of relationships. I have seen where there is some linear correlation, where a linear model would be helpful. I have also seen a couple attributes where there is no linear correlation, which may mean another model is better suited, or there is no relationship and certain variables can be excluded from models. "
   ]
  },
  {
   "cell_type": "markdown",
   "id": "81eea87e",
   "metadata": {},
   "source": [
    "# Term Project Milestone 2"
   ]
  },
  {
   "cell_type": "markdown",
   "id": "b1217bf4",
   "metadata": {},
   "source": [
    "### Overall approach\n",
    "After analysis and feedback from term milestone 1, I am going to focus on creating a model that can predict which  electric vehicle charging station factors, as well as other factors like distance, day of the week etc. lead to the highest charge time (most time spent using station). I am mostly going to be using the dataset that has distance from user to station, as well as station type. However, the campus charging station dataset has useful variables like, gas savings and greenhouse gas savings. I am going to create a dataframe from that dataset that has the mean of each of those values based on energy usage (kWh rounded to the nearest single digit), and then merge that data with the main dataset."
   ]
  },
  {
   "cell_type": "markdown",
   "id": "44e1b968",
   "metadata": {},
   "source": [
    "### Drop any features that are not useful for your model building and explain why they are not useful."
   ]
  },
  {
   "cell_type": "markdown",
   "id": "321196ed",
   "metadata": {},
   "source": [
    "As stated previously, I will only be using the kWh, gas savings, and greenhouse gas savings from the campus charging station dataset. So I will drop all columns from that dataset except those."
   ]
  },
  {
   "cell_type": "code",
   "execution_count": 7,
   "id": "5de6f412",
   "metadata": {},
   "outputs": [],
   "source": [
    "savings_df = campus_ev_charging_df[['energy', 'gas_svngs', 'GHG Savings (kg)']]\n",
    "# Renaming GHG Savings (kg) column\n",
    "savings_df = savings_df.rename(columns={'GHG Savings (kg)': 'ghg_svngs'})"
   ]
  },
  {
   "cell_type": "markdown",
   "id": "a6886179",
   "metadata": {},
   "source": [
    "For the main data set I will be dropping the 'created', 'ended', 'startTime', and 'endTime' columns since there is already a column for the total charge time in hours (chargeTimeHrs). I will also be dropping the 'weekday' column since there are already dummy variables for each day of the week. I will lastly drop the 'Id' columns as they are not going to be useful to the model."
   ]
  },
  {
   "cell_type": "code",
   "execution_count": 8,
   "id": "473811d0",
   "metadata": {},
   "outputs": [],
   "source": [
    "charging_station_df = ev_charging_station_df.drop(['created', 'ended', 'startTime', 'endTime', 'weekday', \n",
    "                                                  'userId', 'stationId', 'locationId', 'sessionId'], axis=1)"
   ]
  },
  {
   "cell_type": "markdown",
   "id": "e789e6f2",
   "metadata": {},
   "source": [
    "### Perform any data extraction/selection steps.\n",
    "### AND Transform features if necessary."
   ]
  },
  {
   "cell_type": "markdown",
   "id": "e63e065d",
   "metadata": {},
   "source": [
    "For this step I will be rounding the energy column to the nearest single digit, and the creating a mean of the gas savings and GHG savings columns by energy column. Once this is done, I will merge with main dataset on energy usage (kwhTotal rounded to the nearest digit)."
   ]
  },
  {
   "cell_type": "code",
   "execution_count": 9,
   "id": "90270fee",
   "metadata": {},
   "outputs": [],
   "source": [
    "# setting energy to nearest integer value\n",
    "savings_df['energy'] = savings_df['energy'].round().astype(int)"
   ]
  },
  {
   "cell_type": "code",
   "execution_count": 10,
   "id": "1d87259c",
   "metadata": {},
   "outputs": [
    {
     "name": "stderr",
     "output_type": "stream",
     "text": [
      "/var/folders/nv/gxlbnd214c78s_bgh264hvsw0000gn/T/ipykernel_23063/3199938666.py:7: FutureWarning: Indexing with multiple keys (implicitly converted to a tuple of keys) will be deprecated, use a list instead.\n",
      "  savings_df_group =  savings_df.groupby('energy', as_index=False)['gas_svngs', 'ghg_svngs'].mean()\n"
     ]
    },
    {
     "data": {
      "text/html": [
       "<div>\n",
       "<style scoped>\n",
       "    .dataframe tbody tr th:only-of-type {\n",
       "        vertical-align: middle;\n",
       "    }\n",
       "\n",
       "    .dataframe tbody tr th {\n",
       "        vertical-align: top;\n",
       "    }\n",
       "\n",
       "    .dataframe thead th {\n",
       "        text-align: right;\n",
       "    }\n",
       "</style>\n",
       "<table border=\"1\" class=\"dataframe\">\n",
       "  <thead>\n",
       "    <tr style=\"text-align: right;\">\n",
       "      <th></th>\n",
       "      <th>energy</th>\n",
       "      <th>gas_svngs</th>\n",
       "      <th>ghg_svngs</th>\n",
       "    </tr>\n",
       "  </thead>\n",
       "  <tbody>\n",
       "    <tr>\n",
       "      <th>0</th>\n",
       "      <td>0</td>\n",
       "      <td>0.005122</td>\n",
       "      <td>0.017187</td>\n",
       "    </tr>\n",
       "    <tr>\n",
       "      <th>1</th>\n",
       "      <td>1</td>\n",
       "      <td>0.126933</td>\n",
       "      <td>0.425133</td>\n",
       "    </tr>\n",
       "    <tr>\n",
       "      <th>2</th>\n",
       "      <td>2</td>\n",
       "      <td>0.258625</td>\n",
       "      <td>0.865469</td>\n",
       "    </tr>\n",
       "    <tr>\n",
       "      <th>3</th>\n",
       "      <td>3</td>\n",
       "      <td>0.372213</td>\n",
       "      <td>1.245525</td>\n",
       "    </tr>\n",
       "    <tr>\n",
       "      <th>4</th>\n",
       "      <td>4</td>\n",
       "      <td>0.505675</td>\n",
       "      <td>1.692162</td>\n",
       "    </tr>\n",
       "  </tbody>\n",
       "</table>\n",
       "</div>"
      ],
      "text/plain": [
       "   energy  gas_svngs  ghg_svngs\n",
       "0       0   0.005122   0.017187\n",
       "1       1   0.126933   0.425133\n",
       "2       2   0.258625   0.865469\n",
       "3       3   0.372213   1.245525\n",
       "4       4   0.505675   1.692162"
      ]
     },
     "execution_count": 10,
     "metadata": {},
     "output_type": "execute_result"
    }
   ],
   "source": [
    "# Before calculating median of gas and ghg savings, I will fill null values with the median\n",
    "gas_svngs_mean = savings_df['gas_svngs'].mean()\n",
    "ghg_svngs_mean = savings_df['ghg_svngs'].mean()\n",
    "savings_df['gas_svngs'] = savings_df['gas_svngs'].fillna(gas_svngs_mean)\n",
    "savings_df['ghg_svngs'] = savings_df['ghg_svngs'].fillna(ghg_svngs_mean)\n",
    "# Creating groupby DF grouped by energy usage and calculating mean of the other columns\n",
    "savings_df_group =  savings_df.groupby('energy', as_index=False)['gas_svngs', 'ghg_svngs'].mean()\n",
    "savings_df_group.head()"
   ]
  },
  {
   "cell_type": "code",
   "execution_count": 11,
   "id": "15638c80",
   "metadata": {},
   "outputs": [
    {
     "data": {
      "text/html": [
       "<div>\n",
       "<style scoped>\n",
       "    .dataframe tbody tr th:only-of-type {\n",
       "        vertical-align: middle;\n",
       "    }\n",
       "\n",
       "    .dataframe tbody tr th {\n",
       "        vertical-align: top;\n",
       "    }\n",
       "\n",
       "    .dataframe thead th {\n",
       "        text-align: right;\n",
       "    }\n",
       "</style>\n",
       "<table border=\"1\" class=\"dataframe\">\n",
       "  <thead>\n",
       "    <tr style=\"text-align: right;\">\n",
       "      <th></th>\n",
       "      <th>kwhTotal</th>\n",
       "      <th>dollars</th>\n",
       "      <th>chargeTimeHrs</th>\n",
       "      <th>platform</th>\n",
       "      <th>distance</th>\n",
       "      <th>managerVehicle</th>\n",
       "      <th>facilityType</th>\n",
       "      <th>Mon</th>\n",
       "      <th>Tues</th>\n",
       "      <th>Wed</th>\n",
       "      <th>Thurs</th>\n",
       "      <th>Fri</th>\n",
       "      <th>Sat</th>\n",
       "      <th>Sun</th>\n",
       "      <th>reportedZip</th>\n",
       "      <th>energy</th>\n",
       "    </tr>\n",
       "  </thead>\n",
       "  <tbody>\n",
       "    <tr>\n",
       "      <th>0</th>\n",
       "      <td>7.78</td>\n",
       "      <td>0.00</td>\n",
       "      <td>1.510556</td>\n",
       "      <td>android</td>\n",
       "      <td>NaN</td>\n",
       "      <td>0</td>\n",
       "      <td>3</td>\n",
       "      <td>0</td>\n",
       "      <td>1</td>\n",
       "      <td>0</td>\n",
       "      <td>0</td>\n",
       "      <td>0</td>\n",
       "      <td>0</td>\n",
       "      <td>0</td>\n",
       "      <td>0</td>\n",
       "      <td>8</td>\n",
       "    </tr>\n",
       "    <tr>\n",
       "      <th>1</th>\n",
       "      <td>9.74</td>\n",
       "      <td>0.00</td>\n",
       "      <td>2.177222</td>\n",
       "      <td>android</td>\n",
       "      <td>NaN</td>\n",
       "      <td>0</td>\n",
       "      <td>3</td>\n",
       "      <td>0</td>\n",
       "      <td>0</td>\n",
       "      <td>1</td>\n",
       "      <td>0</td>\n",
       "      <td>0</td>\n",
       "      <td>0</td>\n",
       "      <td>0</td>\n",
       "      <td>0</td>\n",
       "      <td>10</td>\n",
       "    </tr>\n",
       "    <tr>\n",
       "      <th>2</th>\n",
       "      <td>6.76</td>\n",
       "      <td>0.58</td>\n",
       "      <td>4.671667</td>\n",
       "      <td>android</td>\n",
       "      <td>NaN</td>\n",
       "      <td>0</td>\n",
       "      <td>3</td>\n",
       "      <td>0</td>\n",
       "      <td>0</td>\n",
       "      <td>0</td>\n",
       "      <td>0</td>\n",
       "      <td>1</td>\n",
       "      <td>0</td>\n",
       "      <td>0</td>\n",
       "      <td>0</td>\n",
       "      <td>7</td>\n",
       "    </tr>\n",
       "    <tr>\n",
       "      <th>3</th>\n",
       "      <td>6.17</td>\n",
       "      <td>0.00</td>\n",
       "      <td>1.768333</td>\n",
       "      <td>android</td>\n",
       "      <td>NaN</td>\n",
       "      <td>0</td>\n",
       "      <td>3</td>\n",
       "      <td>0</td>\n",
       "      <td>0</td>\n",
       "      <td>1</td>\n",
       "      <td>0</td>\n",
       "      <td>0</td>\n",
       "      <td>0</td>\n",
       "      <td>0</td>\n",
       "      <td>0</td>\n",
       "      <td>6</td>\n",
       "    </tr>\n",
       "    <tr>\n",
       "      <th>4</th>\n",
       "      <td>0.93</td>\n",
       "      <td>0.00</td>\n",
       "      <td>0.298611</td>\n",
       "      <td>android</td>\n",
       "      <td>NaN</td>\n",
       "      <td>0</td>\n",
       "      <td>3</td>\n",
       "      <td>0</td>\n",
       "      <td>0</td>\n",
       "      <td>0</td>\n",
       "      <td>1</td>\n",
       "      <td>0</td>\n",
       "      <td>0</td>\n",
       "      <td>0</td>\n",
       "      <td>0</td>\n",
       "      <td>1</td>\n",
       "    </tr>\n",
       "  </tbody>\n",
       "</table>\n",
       "</div>"
      ],
      "text/plain": [
       "   kwhTotal  dollars  chargeTimeHrs platform  distance  managerVehicle  \\\n",
       "0      7.78     0.00       1.510556  android       NaN               0   \n",
       "1      9.74     0.00       2.177222  android       NaN               0   \n",
       "2      6.76     0.58       4.671667  android       NaN               0   \n",
       "3      6.17     0.00       1.768333  android       NaN               0   \n",
       "4      0.93     0.00       0.298611  android       NaN               0   \n",
       "\n",
       "   facilityType  Mon  Tues  Wed  Thurs  Fri  Sat  Sun  reportedZip  energy  \n",
       "0             3    0     1    0      0    0    0    0            0       8  \n",
       "1             3    0     0    1      0    0    0    0            0      10  \n",
       "2             3    0     0    0      0    1    0    0            0       7  \n",
       "3             3    0     0    1      0    0    0    0            0       6  \n",
       "4             3    0     0    0      1    0    0    0            0       1  "
      ]
     },
     "execution_count": 11,
     "metadata": {},
     "output_type": "execute_result"
    }
   ],
   "source": [
    "# Creating rounded energy column in main dataframe to merge with the savings dataframe\n",
    "charging_station_df['energy'] = charging_station_df['kwhTotal'].round().astype(int)\n",
    "charging_station_df.head()"
   ]
  },
  {
   "cell_type": "code",
   "execution_count": 12,
   "id": "92a572d5",
   "metadata": {
    "scrolled": true
   },
   "outputs": [
    {
     "data": {
      "text/html": [
       "<div>\n",
       "<style scoped>\n",
       "    .dataframe tbody tr th:only-of-type {\n",
       "        vertical-align: middle;\n",
       "    }\n",
       "\n",
       "    .dataframe tbody tr th {\n",
       "        vertical-align: top;\n",
       "    }\n",
       "\n",
       "    .dataframe thead th {\n",
       "        text-align: right;\n",
       "    }\n",
       "</style>\n",
       "<table border=\"1\" class=\"dataframe\">\n",
       "  <thead>\n",
       "    <tr style=\"text-align: right;\">\n",
       "      <th></th>\n",
       "      <th>kwhTotal</th>\n",
       "      <th>dollars</th>\n",
       "      <th>chargeTimeHrs</th>\n",
       "      <th>platform</th>\n",
       "      <th>distance</th>\n",
       "      <th>managerVehicle</th>\n",
       "      <th>facilityType</th>\n",
       "      <th>Mon</th>\n",
       "      <th>Tues</th>\n",
       "      <th>Wed</th>\n",
       "      <th>Thurs</th>\n",
       "      <th>Fri</th>\n",
       "      <th>Sat</th>\n",
       "      <th>Sun</th>\n",
       "      <th>reportedZip</th>\n",
       "      <th>energy</th>\n",
       "      <th>gas_svngs</th>\n",
       "      <th>ghg_svngs</th>\n",
       "    </tr>\n",
       "  </thead>\n",
       "  <tbody>\n",
       "    <tr>\n",
       "      <th>0</th>\n",
       "      <td>7.78</td>\n",
       "      <td>0.00</td>\n",
       "      <td>1.510556</td>\n",
       "      <td>android</td>\n",
       "      <td>NaN</td>\n",
       "      <td>0</td>\n",
       "      <td>3</td>\n",
       "      <td>0</td>\n",
       "      <td>1</td>\n",
       "      <td>0</td>\n",
       "      <td>0</td>\n",
       "      <td>0</td>\n",
       "      <td>0</td>\n",
       "      <td>0</td>\n",
       "      <td>0</td>\n",
       "      <td>8</td>\n",
       "      <td>1.006379</td>\n",
       "      <td>3.367919</td>\n",
       "    </tr>\n",
       "    <tr>\n",
       "      <th>1</th>\n",
       "      <td>9.74</td>\n",
       "      <td>0.00</td>\n",
       "      <td>2.177222</td>\n",
       "      <td>android</td>\n",
       "      <td>NaN</td>\n",
       "      <td>0</td>\n",
       "      <td>3</td>\n",
       "      <td>0</td>\n",
       "      <td>0</td>\n",
       "      <td>1</td>\n",
       "      <td>0</td>\n",
       "      <td>0</td>\n",
       "      <td>0</td>\n",
       "      <td>0</td>\n",
       "      <td>0</td>\n",
       "      <td>10</td>\n",
       "      <td>1.248017</td>\n",
       "      <td>4.176725</td>\n",
       "    </tr>\n",
       "    <tr>\n",
       "      <th>2</th>\n",
       "      <td>6.76</td>\n",
       "      <td>0.58</td>\n",
       "      <td>4.671667</td>\n",
       "      <td>android</td>\n",
       "      <td>NaN</td>\n",
       "      <td>0</td>\n",
       "      <td>3</td>\n",
       "      <td>0</td>\n",
       "      <td>0</td>\n",
       "      <td>0</td>\n",
       "      <td>0</td>\n",
       "      <td>1</td>\n",
       "      <td>0</td>\n",
       "      <td>0</td>\n",
       "      <td>0</td>\n",
       "      <td>7</td>\n",
       "      <td>0.875266</td>\n",
       "      <td>2.929277</td>\n",
       "    </tr>\n",
       "    <tr>\n",
       "      <th>3</th>\n",
       "      <td>6.17</td>\n",
       "      <td>0.00</td>\n",
       "      <td>1.768333</td>\n",
       "      <td>android</td>\n",
       "      <td>NaN</td>\n",
       "      <td>0</td>\n",
       "      <td>3</td>\n",
       "      <td>0</td>\n",
       "      <td>0</td>\n",
       "      <td>1</td>\n",
       "      <td>0</td>\n",
       "      <td>0</td>\n",
       "      <td>0</td>\n",
       "      <td>0</td>\n",
       "      <td>0</td>\n",
       "      <td>6</td>\n",
       "      <td>0.754775</td>\n",
       "      <td>2.525928</td>\n",
       "    </tr>\n",
       "    <tr>\n",
       "      <th>4</th>\n",
       "      <td>0.93</td>\n",
       "      <td>0.00</td>\n",
       "      <td>0.298611</td>\n",
       "      <td>android</td>\n",
       "      <td>NaN</td>\n",
       "      <td>0</td>\n",
       "      <td>3</td>\n",
       "      <td>0</td>\n",
       "      <td>0</td>\n",
       "      <td>0</td>\n",
       "      <td>1</td>\n",
       "      <td>0</td>\n",
       "      <td>0</td>\n",
       "      <td>0</td>\n",
       "      <td>0</td>\n",
       "      <td>1</td>\n",
       "      <td>0.126933</td>\n",
       "      <td>0.425133</td>\n",
       "    </tr>\n",
       "  </tbody>\n",
       "</table>\n",
       "</div>"
      ],
      "text/plain": [
       "   kwhTotal  dollars  chargeTimeHrs platform  distance  managerVehicle  \\\n",
       "0      7.78     0.00       1.510556  android       NaN               0   \n",
       "1      9.74     0.00       2.177222  android       NaN               0   \n",
       "2      6.76     0.58       4.671667  android       NaN               0   \n",
       "3      6.17     0.00       1.768333  android       NaN               0   \n",
       "4      0.93     0.00       0.298611  android       NaN               0   \n",
       "\n",
       "   facilityType  Mon  Tues  Wed  Thurs  Fri  Sat  Sun  reportedZip  energy  \\\n",
       "0             3    0     1    0      0    0    0    0            0       8   \n",
       "1             3    0     0    1      0    0    0    0            0      10   \n",
       "2             3    0     0    0      0    1    0    0            0       7   \n",
       "3             3    0     0    1      0    0    0    0            0       6   \n",
       "4             3    0     0    0      1    0    0    0            0       1   \n",
       "\n",
       "   gas_svngs  ghg_svngs  \n",
       "0   1.006379   3.367919  \n",
       "1   1.248017   4.176725  \n",
       "2   0.875266   2.929277  \n",
       "3   0.754775   2.525928  \n",
       "4   0.126933   0.425133  "
      ]
     },
     "execution_count": 12,
     "metadata": {},
     "output_type": "execute_result"
    }
   ],
   "source": [
    "# Merging the savings dataframe with the main dataframe based on energy column\n",
    "merged_df = charging_station_df.merge(savings_df_group, how='left', on='energy')\n",
    "merged_df.head()"
   ]
  },
  {
   "cell_type": "code",
   "execution_count": 13,
   "id": "46306035",
   "metadata": {},
   "outputs": [],
   "source": [
    "# Now we no longer need the rounded energy column\n",
    "merged_df = merged_df.drop('energy', axis = 1)"
   ]
  },
  {
   "cell_type": "markdown",
   "id": "22c1dfc3",
   "metadata": {},
   "source": [
    "### Engineer new useful features."
   ]
  },
  {
   "cell_type": "markdown",
   "id": "483969ff",
   "metadata": {},
   "source": [
    "I believe it would it also be useful to know a rough estimate of the monetary value a user is saving on gas. I will create a column based of the gas savings column and the average price of a gallon of gas today($3.21) to get a gas savings column in dollars. Since it would also be helpful to know how long a user needs to charge in order to get the savings, I will create a column for savings per hour (in dollars)."
   ]
  },
  {
   "cell_type": "code",
   "execution_count": 14,
   "id": "84c15670",
   "metadata": {},
   "outputs": [],
   "source": [
    "merged_df['gas_svngs_monetary'] = (merged_df['gas_svngs'] * 3.21)"
   ]
  },
  {
   "cell_type": "code",
   "execution_count": 15,
   "id": "a2d0cd23",
   "metadata": {},
   "outputs": [],
   "source": [
    "# savings per hour will be monetary value over the charge time in hours.\n",
    "merged_df['svngs_per_hr'] = (merged_df['gas_svngs_monetary']/merged_df['chargeTimeHrs'])"
   ]
  },
  {
   "cell_type": "code",
   "execution_count": 16,
   "id": "98fb7240",
   "metadata": {},
   "outputs": [
    {
     "data": {
      "text/html": [
       "<div>\n",
       "<style scoped>\n",
       "    .dataframe tbody tr th:only-of-type {\n",
       "        vertical-align: middle;\n",
       "    }\n",
       "\n",
       "    .dataframe tbody tr th {\n",
       "        vertical-align: top;\n",
       "    }\n",
       "\n",
       "    .dataframe thead th {\n",
       "        text-align: right;\n",
       "    }\n",
       "</style>\n",
       "<table border=\"1\" class=\"dataframe\">\n",
       "  <thead>\n",
       "    <tr style=\"text-align: right;\">\n",
       "      <th></th>\n",
       "      <th>kwhTotal</th>\n",
       "      <th>dollars</th>\n",
       "      <th>chargeTimeHrs</th>\n",
       "      <th>platform</th>\n",
       "      <th>distance</th>\n",
       "      <th>managerVehicle</th>\n",
       "      <th>facilityType</th>\n",
       "      <th>Mon</th>\n",
       "      <th>Tues</th>\n",
       "      <th>Wed</th>\n",
       "      <th>Thurs</th>\n",
       "      <th>Fri</th>\n",
       "      <th>Sat</th>\n",
       "      <th>Sun</th>\n",
       "      <th>reportedZip</th>\n",
       "      <th>gas_svngs</th>\n",
       "      <th>ghg_svngs</th>\n",
       "      <th>gas_svngs_monetary</th>\n",
       "      <th>svngs_per_hr</th>\n",
       "    </tr>\n",
       "  </thead>\n",
       "  <tbody>\n",
       "    <tr>\n",
       "      <th>0</th>\n",
       "      <td>7.78</td>\n",
       "      <td>0.00</td>\n",
       "      <td>1.510556</td>\n",
       "      <td>android</td>\n",
       "      <td>NaN</td>\n",
       "      <td>0</td>\n",
       "      <td>3</td>\n",
       "      <td>0</td>\n",
       "      <td>1</td>\n",
       "      <td>0</td>\n",
       "      <td>0</td>\n",
       "      <td>0</td>\n",
       "      <td>0</td>\n",
       "      <td>0</td>\n",
       "      <td>0</td>\n",
       "      <td>1.006379</td>\n",
       "      <td>3.367919</td>\n",
       "      <td>3.230477</td>\n",
       "      <td>2.138602</td>\n",
       "    </tr>\n",
       "    <tr>\n",
       "      <th>1</th>\n",
       "      <td>9.74</td>\n",
       "      <td>0.00</td>\n",
       "      <td>2.177222</td>\n",
       "      <td>android</td>\n",
       "      <td>NaN</td>\n",
       "      <td>0</td>\n",
       "      <td>3</td>\n",
       "      <td>0</td>\n",
       "      <td>0</td>\n",
       "      <td>1</td>\n",
       "      <td>0</td>\n",
       "      <td>0</td>\n",
       "      <td>0</td>\n",
       "      <td>0</td>\n",
       "      <td>0</td>\n",
       "      <td>1.248017</td>\n",
       "      <td>4.176725</td>\n",
       "      <td>4.006134</td>\n",
       "      <td>1.840020</td>\n",
       "    </tr>\n",
       "    <tr>\n",
       "      <th>2</th>\n",
       "      <td>6.76</td>\n",
       "      <td>0.58</td>\n",
       "      <td>4.671667</td>\n",
       "      <td>android</td>\n",
       "      <td>NaN</td>\n",
       "      <td>0</td>\n",
       "      <td>3</td>\n",
       "      <td>0</td>\n",
       "      <td>0</td>\n",
       "      <td>0</td>\n",
       "      <td>0</td>\n",
       "      <td>1</td>\n",
       "      <td>0</td>\n",
       "      <td>0</td>\n",
       "      <td>0</td>\n",
       "      <td>0.875266</td>\n",
       "      <td>2.929277</td>\n",
       "      <td>2.809604</td>\n",
       "      <td>0.601414</td>\n",
       "    </tr>\n",
       "    <tr>\n",
       "      <th>3</th>\n",
       "      <td>6.17</td>\n",
       "      <td>0.00</td>\n",
       "      <td>1.768333</td>\n",
       "      <td>android</td>\n",
       "      <td>NaN</td>\n",
       "      <td>0</td>\n",
       "      <td>3</td>\n",
       "      <td>0</td>\n",
       "      <td>0</td>\n",
       "      <td>1</td>\n",
       "      <td>0</td>\n",
       "      <td>0</td>\n",
       "      <td>0</td>\n",
       "      <td>0</td>\n",
       "      <td>0</td>\n",
       "      <td>0.754775</td>\n",
       "      <td>2.525928</td>\n",
       "      <td>2.422827</td>\n",
       "      <td>1.370119</td>\n",
       "    </tr>\n",
       "    <tr>\n",
       "      <th>4</th>\n",
       "      <td>0.93</td>\n",
       "      <td>0.00</td>\n",
       "      <td>0.298611</td>\n",
       "      <td>android</td>\n",
       "      <td>NaN</td>\n",
       "      <td>0</td>\n",
       "      <td>3</td>\n",
       "      <td>0</td>\n",
       "      <td>0</td>\n",
       "      <td>0</td>\n",
       "      <td>1</td>\n",
       "      <td>0</td>\n",
       "      <td>0</td>\n",
       "      <td>0</td>\n",
       "      <td>0</td>\n",
       "      <td>0.126933</td>\n",
       "      <td>0.425133</td>\n",
       "      <td>0.407456</td>\n",
       "      <td>1.364504</td>\n",
       "    </tr>\n",
       "  </tbody>\n",
       "</table>\n",
       "</div>"
      ],
      "text/plain": [
       "   kwhTotal  dollars  chargeTimeHrs platform  distance  managerVehicle  \\\n",
       "0      7.78     0.00       1.510556  android       NaN               0   \n",
       "1      9.74     0.00       2.177222  android       NaN               0   \n",
       "2      6.76     0.58       4.671667  android       NaN               0   \n",
       "3      6.17     0.00       1.768333  android       NaN               0   \n",
       "4      0.93     0.00       0.298611  android       NaN               0   \n",
       "\n",
       "   facilityType  Mon  Tues  Wed  Thurs  Fri  Sat  Sun  reportedZip  gas_svngs  \\\n",
       "0             3    0     1    0      0    0    0    0            0   1.006379   \n",
       "1             3    0     0    1      0    0    0    0            0   1.248017   \n",
       "2             3    0     0    0      0    1    0    0            0   0.875266   \n",
       "3             3    0     0    1      0    0    0    0            0   0.754775   \n",
       "4             3    0     0    0      1    0    0    0            0   0.126933   \n",
       "\n",
       "   ghg_svngs  gas_svngs_monetary  svngs_per_hr  \n",
       "0   3.367919            3.230477      2.138602  \n",
       "1   4.176725            4.006134      1.840020  \n",
       "2   2.929277            2.809604      0.601414  \n",
       "3   2.525928            2.422827      1.370119  \n",
       "4   0.425133            0.407456      1.364504  "
      ]
     },
     "execution_count": 16,
     "metadata": {},
     "output_type": "execute_result"
    }
   ],
   "source": [
    "merged_df.head()"
   ]
  },
  {
   "cell_type": "markdown",
   "id": "9e198a06",
   "metadata": {},
   "source": [
    "### Deal with missing data (do not just drop rows or columns without justifying this)."
   ]
  },
  {
   "cell_type": "markdown",
   "id": "1e7e03b7",
   "metadata": {},
   "source": [
    "Since distance from user to charging station is important, I will be filling the NA values with the median value. I will also be filling the platform column with the mode since it is categorical. "
   ]
  },
  {
   "cell_type": "code",
   "execution_count": 17,
   "id": "57e18817",
   "metadata": {},
   "outputs": [],
   "source": [
    "merged_df['distance'] = merged_df['distance'].fillna(merged_df['distance'].median())\n",
    "merged_df['platform'] = merged_df['platform'].fillna(merged_df['platform'].mode())"
   ]
  },
  {
   "cell_type": "code",
   "execution_count": 18,
   "id": "4f3d9e38",
   "metadata": {},
   "outputs": [
    {
     "data": {
      "text/html": [
       "<div>\n",
       "<style scoped>\n",
       "    .dataframe tbody tr th:only-of-type {\n",
       "        vertical-align: middle;\n",
       "    }\n",
       "\n",
       "    .dataframe tbody tr th {\n",
       "        vertical-align: top;\n",
       "    }\n",
       "\n",
       "    .dataframe thead th {\n",
       "        text-align: right;\n",
       "    }\n",
       "</style>\n",
       "<table border=\"1\" class=\"dataframe\">\n",
       "  <thead>\n",
       "    <tr style=\"text-align: right;\">\n",
       "      <th></th>\n",
       "      <th>kwhTotal</th>\n",
       "      <th>dollars</th>\n",
       "      <th>chargeTimeHrs</th>\n",
       "      <th>platform</th>\n",
       "      <th>distance</th>\n",
       "      <th>managerVehicle</th>\n",
       "      <th>facilityType</th>\n",
       "      <th>Mon</th>\n",
       "      <th>Tues</th>\n",
       "      <th>Wed</th>\n",
       "      <th>Thurs</th>\n",
       "      <th>Fri</th>\n",
       "      <th>Sat</th>\n",
       "      <th>Sun</th>\n",
       "      <th>reportedZip</th>\n",
       "      <th>gas_svngs</th>\n",
       "      <th>ghg_svngs</th>\n",
       "      <th>gas_svngs_monetary</th>\n",
       "      <th>svngs_per_hr</th>\n",
       "    </tr>\n",
       "  </thead>\n",
       "  <tbody>\n",
       "    <tr>\n",
       "      <th>0</th>\n",
       "      <td>7.78</td>\n",
       "      <td>0.00</td>\n",
       "      <td>1.510556</td>\n",
       "      <td>android</td>\n",
       "      <td>21.023826</td>\n",
       "      <td>0</td>\n",
       "      <td>3</td>\n",
       "      <td>0</td>\n",
       "      <td>1</td>\n",
       "      <td>0</td>\n",
       "      <td>0</td>\n",
       "      <td>0</td>\n",
       "      <td>0</td>\n",
       "      <td>0</td>\n",
       "      <td>0</td>\n",
       "      <td>1.006379</td>\n",
       "      <td>3.367919</td>\n",
       "      <td>3.230477</td>\n",
       "      <td>2.138602</td>\n",
       "    </tr>\n",
       "    <tr>\n",
       "      <th>1</th>\n",
       "      <td>9.74</td>\n",
       "      <td>0.00</td>\n",
       "      <td>2.177222</td>\n",
       "      <td>android</td>\n",
       "      <td>21.023826</td>\n",
       "      <td>0</td>\n",
       "      <td>3</td>\n",
       "      <td>0</td>\n",
       "      <td>0</td>\n",
       "      <td>1</td>\n",
       "      <td>0</td>\n",
       "      <td>0</td>\n",
       "      <td>0</td>\n",
       "      <td>0</td>\n",
       "      <td>0</td>\n",
       "      <td>1.248017</td>\n",
       "      <td>4.176725</td>\n",
       "      <td>4.006134</td>\n",
       "      <td>1.840020</td>\n",
       "    </tr>\n",
       "    <tr>\n",
       "      <th>2</th>\n",
       "      <td>6.76</td>\n",
       "      <td>0.58</td>\n",
       "      <td>4.671667</td>\n",
       "      <td>android</td>\n",
       "      <td>21.023826</td>\n",
       "      <td>0</td>\n",
       "      <td>3</td>\n",
       "      <td>0</td>\n",
       "      <td>0</td>\n",
       "      <td>0</td>\n",
       "      <td>0</td>\n",
       "      <td>1</td>\n",
       "      <td>0</td>\n",
       "      <td>0</td>\n",
       "      <td>0</td>\n",
       "      <td>0.875266</td>\n",
       "      <td>2.929277</td>\n",
       "      <td>2.809604</td>\n",
       "      <td>0.601414</td>\n",
       "    </tr>\n",
       "    <tr>\n",
       "      <th>3</th>\n",
       "      <td>6.17</td>\n",
       "      <td>0.00</td>\n",
       "      <td>1.768333</td>\n",
       "      <td>android</td>\n",
       "      <td>21.023826</td>\n",
       "      <td>0</td>\n",
       "      <td>3</td>\n",
       "      <td>0</td>\n",
       "      <td>0</td>\n",
       "      <td>1</td>\n",
       "      <td>0</td>\n",
       "      <td>0</td>\n",
       "      <td>0</td>\n",
       "      <td>0</td>\n",
       "      <td>0</td>\n",
       "      <td>0.754775</td>\n",
       "      <td>2.525928</td>\n",
       "      <td>2.422827</td>\n",
       "      <td>1.370119</td>\n",
       "    </tr>\n",
       "    <tr>\n",
       "      <th>4</th>\n",
       "      <td>0.93</td>\n",
       "      <td>0.00</td>\n",
       "      <td>0.298611</td>\n",
       "      <td>android</td>\n",
       "      <td>21.023826</td>\n",
       "      <td>0</td>\n",
       "      <td>3</td>\n",
       "      <td>0</td>\n",
       "      <td>0</td>\n",
       "      <td>0</td>\n",
       "      <td>1</td>\n",
       "      <td>0</td>\n",
       "      <td>0</td>\n",
       "      <td>0</td>\n",
       "      <td>0</td>\n",
       "      <td>0.126933</td>\n",
       "      <td>0.425133</td>\n",
       "      <td>0.407456</td>\n",
       "      <td>1.364504</td>\n",
       "    </tr>\n",
       "  </tbody>\n",
       "</table>\n",
       "</div>"
      ],
      "text/plain": [
       "   kwhTotal  dollars  chargeTimeHrs platform   distance  managerVehicle  \\\n",
       "0      7.78     0.00       1.510556  android  21.023826               0   \n",
       "1      9.74     0.00       2.177222  android  21.023826               0   \n",
       "2      6.76     0.58       4.671667  android  21.023826               0   \n",
       "3      6.17     0.00       1.768333  android  21.023826               0   \n",
       "4      0.93     0.00       0.298611  android  21.023826               0   \n",
       "\n",
       "   facilityType  Mon  Tues  Wed  Thurs  Fri  Sat  Sun  reportedZip  gas_svngs  \\\n",
       "0             3    0     1    0      0    0    0    0            0   1.006379   \n",
       "1             3    0     0    1      0    0    0    0            0   1.248017   \n",
       "2             3    0     0    0      0    1    0    0            0   0.875266   \n",
       "3             3    0     0    1      0    0    0    0            0   0.754775   \n",
       "4             3    0     0    0      1    0    0    0            0   0.126933   \n",
       "\n",
       "   ghg_svngs  gas_svngs_monetary  svngs_per_hr  \n",
       "0   3.367919            3.230477      2.138602  \n",
       "1   4.176725            4.006134      1.840020  \n",
       "2   2.929277            2.809604      0.601414  \n",
       "3   2.525928            2.422827      1.370119  \n",
       "4   0.425133            0.407456      1.364504  "
      ]
     },
     "execution_count": 18,
     "metadata": {},
     "output_type": "execute_result"
    }
   ],
   "source": [
    "merged_df.head()"
   ]
  },
  {
   "cell_type": "code",
   "execution_count": 19,
   "id": "dda1d3e9",
   "metadata": {},
   "outputs": [
    {
     "name": "stdout",
     "output_type": "stream",
     "text": [
      "Before dropna (3394, 19)\n",
      "After dropna (3394, 19)\n"
     ]
    }
   ],
   "source": [
    "# Now we can see there are no more rows with NA values\n",
    "print('Before dropna', merged_df.shape)\n",
    "merged_df = merged_df.dropna()\n",
    "print('After dropna', merged_df.shape)"
   ]
  },
  {
   "cell_type": "markdown",
   "id": "b65d744b",
   "metadata": {},
   "source": [
    "### Create dummy variables if necessary."
   ]
  },
  {
   "cell_type": "markdown",
   "id": "822beb01",
   "metadata": {},
   "source": [
    "Creating dummy variables for the platform column (ios, android, etc.), and facility type."
   ]
  },
  {
   "cell_type": "code",
   "execution_count": 20,
   "id": "bcddb9fb",
   "metadata": {},
   "outputs": [],
   "source": [
    "# First converting the facility type number to it's corresponding type (manufacturing = 1, office = 2,\n",
    "# research and development = 3, other = 4)\n",
    "merged_df['facilityType'] = merged_df['facilityType'].replace([1, 2, 3, 4], ['manufacturing', \n",
    "                                                                            'office', 'rAndD', 'other'])\n"
   ]
  },
  {
   "cell_type": "code",
   "execution_count": 21,
   "id": "8fe69147",
   "metadata": {},
   "outputs": [],
   "source": [
    "merged_df = pd.get_dummies(merged_df, prefix=['facilityType', 'platform'],\n",
    "                                  columns=['facilityType', 'platform'])"
   ]
  },
  {
   "cell_type": "code",
   "execution_count": 22,
   "id": "949a60b5",
   "metadata": {},
   "outputs": [
    {
     "data": {
      "text/html": [
       "<div>\n",
       "<style scoped>\n",
       "    .dataframe tbody tr th:only-of-type {\n",
       "        vertical-align: middle;\n",
       "    }\n",
       "\n",
       "    .dataframe tbody tr th {\n",
       "        vertical-align: top;\n",
       "    }\n",
       "\n",
       "    .dataframe thead th {\n",
       "        text-align: right;\n",
       "    }\n",
       "</style>\n",
       "<table border=\"1\" class=\"dataframe\">\n",
       "  <thead>\n",
       "    <tr style=\"text-align: right;\">\n",
       "      <th></th>\n",
       "      <th>kwhTotal</th>\n",
       "      <th>dollars</th>\n",
       "      <th>chargeTimeHrs</th>\n",
       "      <th>distance</th>\n",
       "      <th>managerVehicle</th>\n",
       "      <th>Mon</th>\n",
       "      <th>Tues</th>\n",
       "      <th>Wed</th>\n",
       "      <th>Thurs</th>\n",
       "      <th>Fri</th>\n",
       "      <th>...</th>\n",
       "      <th>ghg_svngs</th>\n",
       "      <th>gas_svngs_monetary</th>\n",
       "      <th>svngs_per_hr</th>\n",
       "      <th>facilityType_manufacturing</th>\n",
       "      <th>facilityType_office</th>\n",
       "      <th>facilityType_other</th>\n",
       "      <th>facilityType_rAndD</th>\n",
       "      <th>platform_android</th>\n",
       "      <th>platform_ios</th>\n",
       "      <th>platform_web</th>\n",
       "    </tr>\n",
       "  </thead>\n",
       "  <tbody>\n",
       "    <tr>\n",
       "      <th>0</th>\n",
       "      <td>7.78</td>\n",
       "      <td>0.00</td>\n",
       "      <td>1.510556</td>\n",
       "      <td>21.023826</td>\n",
       "      <td>0</td>\n",
       "      <td>0</td>\n",
       "      <td>1</td>\n",
       "      <td>0</td>\n",
       "      <td>0</td>\n",
       "      <td>0</td>\n",
       "      <td>...</td>\n",
       "      <td>3.367919</td>\n",
       "      <td>3.230477</td>\n",
       "      <td>2.138602</td>\n",
       "      <td>0</td>\n",
       "      <td>0</td>\n",
       "      <td>0</td>\n",
       "      <td>1</td>\n",
       "      <td>1</td>\n",
       "      <td>0</td>\n",
       "      <td>0</td>\n",
       "    </tr>\n",
       "    <tr>\n",
       "      <th>1</th>\n",
       "      <td>9.74</td>\n",
       "      <td>0.00</td>\n",
       "      <td>2.177222</td>\n",
       "      <td>21.023826</td>\n",
       "      <td>0</td>\n",
       "      <td>0</td>\n",
       "      <td>0</td>\n",
       "      <td>1</td>\n",
       "      <td>0</td>\n",
       "      <td>0</td>\n",
       "      <td>...</td>\n",
       "      <td>4.176725</td>\n",
       "      <td>4.006134</td>\n",
       "      <td>1.840020</td>\n",
       "      <td>0</td>\n",
       "      <td>0</td>\n",
       "      <td>0</td>\n",
       "      <td>1</td>\n",
       "      <td>1</td>\n",
       "      <td>0</td>\n",
       "      <td>0</td>\n",
       "    </tr>\n",
       "    <tr>\n",
       "      <th>2</th>\n",
       "      <td>6.76</td>\n",
       "      <td>0.58</td>\n",
       "      <td>4.671667</td>\n",
       "      <td>21.023826</td>\n",
       "      <td>0</td>\n",
       "      <td>0</td>\n",
       "      <td>0</td>\n",
       "      <td>0</td>\n",
       "      <td>0</td>\n",
       "      <td>1</td>\n",
       "      <td>...</td>\n",
       "      <td>2.929277</td>\n",
       "      <td>2.809604</td>\n",
       "      <td>0.601414</td>\n",
       "      <td>0</td>\n",
       "      <td>0</td>\n",
       "      <td>0</td>\n",
       "      <td>1</td>\n",
       "      <td>1</td>\n",
       "      <td>0</td>\n",
       "      <td>0</td>\n",
       "    </tr>\n",
       "    <tr>\n",
       "      <th>3</th>\n",
       "      <td>6.17</td>\n",
       "      <td>0.00</td>\n",
       "      <td>1.768333</td>\n",
       "      <td>21.023826</td>\n",
       "      <td>0</td>\n",
       "      <td>0</td>\n",
       "      <td>0</td>\n",
       "      <td>1</td>\n",
       "      <td>0</td>\n",
       "      <td>0</td>\n",
       "      <td>...</td>\n",
       "      <td>2.525928</td>\n",
       "      <td>2.422827</td>\n",
       "      <td>1.370119</td>\n",
       "      <td>0</td>\n",
       "      <td>0</td>\n",
       "      <td>0</td>\n",
       "      <td>1</td>\n",
       "      <td>1</td>\n",
       "      <td>0</td>\n",
       "      <td>0</td>\n",
       "    </tr>\n",
       "    <tr>\n",
       "      <th>4</th>\n",
       "      <td>0.93</td>\n",
       "      <td>0.00</td>\n",
       "      <td>0.298611</td>\n",
       "      <td>21.023826</td>\n",
       "      <td>0</td>\n",
       "      <td>0</td>\n",
       "      <td>0</td>\n",
       "      <td>0</td>\n",
       "      <td>1</td>\n",
       "      <td>0</td>\n",
       "      <td>...</td>\n",
       "      <td>0.425133</td>\n",
       "      <td>0.407456</td>\n",
       "      <td>1.364504</td>\n",
       "      <td>0</td>\n",
       "      <td>0</td>\n",
       "      <td>0</td>\n",
       "      <td>1</td>\n",
       "      <td>1</td>\n",
       "      <td>0</td>\n",
       "      <td>0</td>\n",
       "    </tr>\n",
       "  </tbody>\n",
       "</table>\n",
       "<p>5 rows × 24 columns</p>\n",
       "</div>"
      ],
      "text/plain": [
       "   kwhTotal  dollars  chargeTimeHrs   distance  managerVehicle  Mon  Tues  \\\n",
       "0      7.78     0.00       1.510556  21.023826               0    0     1   \n",
       "1      9.74     0.00       2.177222  21.023826               0    0     0   \n",
       "2      6.76     0.58       4.671667  21.023826               0    0     0   \n",
       "3      6.17     0.00       1.768333  21.023826               0    0     0   \n",
       "4      0.93     0.00       0.298611  21.023826               0    0     0   \n",
       "\n",
       "   Wed  Thurs  Fri  ...  ghg_svngs  gas_svngs_monetary  svngs_per_hr  \\\n",
       "0    0      0    0  ...   3.367919            3.230477      2.138602   \n",
       "1    1      0    0  ...   4.176725            4.006134      1.840020   \n",
       "2    0      0    1  ...   2.929277            2.809604      0.601414   \n",
       "3    1      0    0  ...   2.525928            2.422827      1.370119   \n",
       "4    0      1    0  ...   0.425133            0.407456      1.364504   \n",
       "\n",
       "   facilityType_manufacturing  facilityType_office  facilityType_other  \\\n",
       "0                           0                    0                   0   \n",
       "1                           0                    0                   0   \n",
       "2                           0                    0                   0   \n",
       "3                           0                    0                   0   \n",
       "4                           0                    0                   0   \n",
       "\n",
       "   facilityType_rAndD  platform_android  platform_ios  platform_web  \n",
       "0                   1                 1             0             0  \n",
       "1                   1                 1             0             0  \n",
       "2                   1                 1             0             0  \n",
       "3                   1                 1             0             0  \n",
       "4                   1                 1             0             0  \n",
       "\n",
       "[5 rows x 24 columns]"
      ]
     },
     "execution_count": 22,
     "metadata": {},
     "output_type": "execute_result"
    }
   ],
   "source": [
    "merged_df.head()"
   ]
  },
  {
   "cell_type": "markdown",
   "id": "35d3440f",
   "metadata": {},
   "source": [
    "### Identify Outliers"
   ]
  },
  {
   "cell_type": "markdown",
   "id": "8678cf05",
   "metadata": {},
   "source": [
    "Here I will be using the boxplot to get a rough estimate of what the threshold for ouliers will be. I will be doing this for the two numerical variables I identified outliers in during the EDA step in milestone 1; distance and kwhTotal."
   ]
  },
  {
   "cell_type": "code",
   "execution_count": 23,
   "id": "e123e03d",
   "metadata": {},
   "outputs": [
    {
     "data": {
      "text/plain": [
       "{'whiskers': [<matplotlib.lines.Line2D at 0x128233520>,\n",
       "  <matplotlib.lines.Line2D at 0x128233b80>],\n",
       " 'caps': [<matplotlib.lines.Line2D at 0x128233100>,\n",
       "  <matplotlib.lines.Line2D at 0x11ed176a0>],\n",
       " 'boxes': [<matplotlib.lines.Line2D at 0x128233610>],\n",
       " 'medians': [<matplotlib.lines.Line2D at 0x1282087f0>],\n",
       " 'fliers': [<matplotlib.lines.Line2D at 0x1282081c0>],\n",
       " 'means': []}"
      ]
     },
     "execution_count": 23,
     "metadata": {},
     "output_type": "execute_result"
    },
    {
     "data": {
      "image/png": "[encoded data removed]",
      "text/plain": [
       "<Figure size 640x480 with 1 Axes>"
      ]
     },
     "metadata": {},
     "output_type": "display_data"
    }
   ],
   "source": [
    "import matplotlib.pyplot as plt \n",
    "plt.boxplot(merged_df.distance, notch=True)"
   ]
  },
  {
   "cell_type": "code",
   "execution_count": 24,
   "id": "04b97c6c",
   "metadata": {
    "scrolled": false
   },
   "outputs": [
    {
     "data": {
      "text/plain": [
       "{'whiskers': [<matplotlib.lines.Line2D at 0x1282e0df0>,\n",
       "  <matplotlib.lines.Line2D at 0x1282e1090>],\n",
       " 'caps': [<matplotlib.lines.Line2D at 0x1282bbb80>,\n",
       "  <matplotlib.lines.Line2D at 0x1282e14b0>],\n",
       " 'boxes': [<matplotlib.lines.Line2D at 0x1282e0b50>],\n",
       " 'medians': [<matplotlib.lines.Line2D at 0x1282e1750>],\n",
       " 'fliers': [<matplotlib.lines.Line2D at 0x1282e19f0>],\n",
       " 'means': []}"
      ]
     },
     "execution_count": 24,
     "metadata": {},
     "output_type": "execute_result"
    },
    {
     "data": {
      "image/png": "[encoded data removed]",
      "text/plain": [
       "<Figure size 640x480 with 1 Axes>"
      ]
     },
     "metadata": {},
     "output_type": "display_data"
    }
   ],
   "source": [
    "plt.boxplot(merged_df.kwhTotal, notch=True)"
   ]
  },
  {
   "cell_type": "code",
   "execution_count": 25,
   "id": "09b74a9d",
   "metadata": {},
   "outputs": [],
   "source": [
    "clean_df = merged_df.loc[merged_df['distance'] < 40]\n",
    "clean_df = clean_df.loc[clean_df['distance'] > 3]"
   ]
  },
  {
   "cell_type": "code",
   "execution_count": 26,
   "id": "fb49b010",
   "metadata": {},
   "outputs": [],
   "source": [
    "clean_df = clean_df.loc[clean_df['kwhTotal'] < 20]\n",
    "clean_df = clean_df.loc[clean_df['kwhTotal'] > 1]"
   ]
  },
  {
   "cell_type": "code",
   "execution_count": 27,
   "id": "cea75983",
   "metadata": {},
   "outputs": [
    {
     "name": "stdout",
     "output_type": "stream",
     "text": [
      "original dataset shape:  (3394, 24)\n",
      "after removing outliers:  (2828, 24)\n"
     ]
    }
   ],
   "source": [
    "print('original dataset shape: ', merged_df.shape)\n",
    "print('after removing outliers: ', clean_df.shape)"
   ]
  },
  {
   "cell_type": "markdown",
   "id": "915cdd08",
   "metadata": {},
   "source": [
    "# Milestone 3"
   ]
  },
  {
   "cell_type": "markdown",
   "id": "53a018fe",
   "metadata": {},
   "source": [
    "## Thought process on model selection"
   ]
  },
  {
   "cell_type": "markdown",
   "id": "9af41a7d",
   "metadata": {},
   "source": [
    "The goal of my model is to determine what factors of electric vehicle charging stations lead to to the highest amount of energy usage (most use from station). Given this approach, the kwhTotal is my target variable, and the others are the determining. \n",
    "\n",
    "Since the kWh is the target and it is numerical, not categorical I am going to use regression algorithms for my model. As identified earlier in my exploratory data analysis, there is a linear relationship between some variables, but not all. Therefore, I will consider a linear regression model, and a random forest regressor and comparing the results to see which yiedls a better result. I will see which one yields a better result by comparing the values for R2, root mean squared error (RMSE), and mean absolute error (MAE). For each model I will compare these values on the training and test set to make sure there is no major gap that would indicate overfitting.\n"
   ]
  },
  {
   "cell_type": "markdown",
   "id": "f331e9dc",
   "metadata": {},
   "source": [
    "### Splitting the data into train and test sets"
   ]
  },
  {
   "cell_type": "code",
   "execution_count": 28,
   "id": "27ed10e5",
   "metadata": {},
   "outputs": [],
   "source": [
    "from sklearn.model_selection import train_test_split\n",
    "\n",
    "x_data = clean_df.drop(['kwhTotal'], axis=1) \n",
    "target_data = clean_df['kwhTotal']\n",
    "# splitting the data using sklearn\n",
    "# using 20% as test size\n",
    "x_train, x_test, target_train, target_test = train_test_split(x_data,target_data,\n",
    "                                                              test_size=0.2, random_state=42)"
   ]
  },
  {
   "cell_type": "markdown",
   "id": "d6222870",
   "metadata": {},
   "source": [
    "## Random Forest Regressor"
   ]
  },
  {
   "cell_type": "code",
   "execution_count": 29,
   "id": "b0f0127f",
   "metadata": {},
   "outputs": [
    {
     "data": {
      "text/html": [
       "<style>#sk-container-id-1 {color: black;background-color: white;}#sk-container-id-1 pre{padding: 0;}#sk-container-id-1 div.sk-toggleable {background-color: white;}#sk-container-id-1 label.sk-toggleable__label {cursor: pointer;display: block;width: 100%;margin-bottom: 0;padding: 0.3em;box-sizing: border-box;text-align: center;}#sk-container-id-1 label.sk-toggleable__label-arrow:before {content: \"▸\";float: left;margin-right: 0.25em;color: #696969;}#sk-container-id-1 label.sk-toggleable__label-arrow:hover:before {color: black;}#sk-container-id-1 div.sk-estimator:hover label.sk-toggleable__label-arrow:before {color: black;}#sk-container-id-1 div.sk-toggleable__content {max-height: 0;max-width: 0;overflow: hidden;text-align: left;background-color: #f0f8ff;}#sk-container-id-1 div.sk-toggleable__content pre {margin: 0.2em;color: black;border-radius: 0.25em;background-color: #f0f8ff;}#sk-container-id-1 input.sk-toggleable__control:checked~div.sk-toggleable__content {max-height: 200px;max-width: 100%;overflow: auto;}#sk-container-id-1 input.sk-toggleable__control:checked~label.sk-toggleable__label-arrow:before {content: \"▾\";}#sk-container-id-1 div.sk-estimator input.sk-toggleable__control:checked~label.sk-toggleable__label {background-color: #d4ebff;}#sk-container-id-1 div.sk-label input.sk-toggleable__control:checked~label.sk-toggleable__label {background-color: #d4ebff;}#sk-container-id-1 input.sk-hidden--visually {border: 0;clip: rect(1px 1px 1px 1px);clip: rect(1px, 1px, 1px, 1px);height: 1px;margin: -1px;overflow: hidden;padding: 0;position: absolute;width: 1px;}#sk-container-id-1 div.sk-estimator {font-family: monospace;background-color: #f0f8ff;border: 1px dotted black;border-radius: 0.25em;box-sizing: border-box;margin-bottom: 0.5em;}#sk-container-id-1 div.sk-estimator:hover {background-color: #d4ebff;}#sk-container-id-1 div.sk-parallel-item::after {content: \"\";width: 100%;border-bottom: 1px solid gray;flex-grow: 1;}#sk-container-id-1 div.sk-label:hover label.sk-toggleable__label {background-color: #d4ebff;}#sk-container-id-1 div.sk-serial::before {content: \"\";position: absolute;border-left: 1px solid gray;box-sizing: border-box;top: 0;bottom: 0;left: 50%;z-index: 0;}#sk-container-id-1 div.sk-serial {display: flex;flex-direction: column;align-items: center;background-color: white;padding-right: 0.2em;padding-left: 0.2em;position: relative;}#sk-container-id-1 div.sk-item {position: relative;z-index: 1;}#sk-container-id-1 div.sk-parallel {display: flex;align-items: stretch;justify-content: center;background-color: white;position: relative;}#sk-container-id-1 div.sk-item::before, #sk-container-id-1 div.sk-parallel-item::before {content: \"\";position: absolute;border-left: 1px solid gray;box-sizing: border-box;top: 0;bottom: 0;left: 50%;z-index: -1;}#sk-container-id-1 div.sk-parallel-item {display: flex;flex-direction: column;z-index: 1;position: relative;background-color: white;}#sk-container-id-1 div.sk-parallel-item:first-child::after {align-self: flex-end;width: 50%;}#sk-container-id-1 div.sk-parallel-item:last-child::after {align-self: flex-start;width: 50%;}#sk-container-id-1 div.sk-parallel-item:only-child::after {width: 0;}#sk-container-id-1 div.sk-dashed-wrapped {border: 1px dashed gray;margin: 0 0.4em 0.5em 0.4em;box-sizing: border-box;padding-bottom: 0.4em;background-color: white;}#sk-container-id-1 div.sk-label label {font-family: monospace;font-weight: bold;display: inline-block;line-height: 1.2em;}#sk-container-id-1 div.sk-label-container {text-align: center;}#sk-container-id-1 div.sk-container {/* jupyter's `normalize.less` sets `[hidden] { display: none; }` but bootstrap.min.css set `[hidden] { display: none !important; }` so we also need the `!important` here to be able to override the default hidden behavior on the sphinx rendered scikit-learn.org. See: https://github.com/scikit-learn/scikit-learn/issues/21755 */display: inline-block !important;position: relative;}#sk-container-id-1 div.sk-text-repr-fallback {display: none;}</style><div id=\"sk-container-id-1\" class=\"sk-top-container\"><div class=\"sk-text-repr-fallback\"><pre>RandomForestRegressor()</pre><b>In a Jupyter environment, please rerun this cell to show the HTML representation or trust the notebook. <br />On GitHub, the HTML representation is unable to render, please try loading this page with nbviewer.org.</b></div><div class=\"sk-container\" hidden><div class=\"sk-item\"><div class=\"sk-estimator sk-toggleable\"><input class=\"sk-toggleable__control sk-hidden--visually\" id=\"sk-estimator-id-1\" type=\"checkbox\" checked><label for=\"sk-estimator-id-1\" class=\"sk-toggleable__label sk-toggleable__label-arrow\">RandomForestRegressor</label><div class=\"sk-toggleable__content\"><pre>RandomForestRegressor()</pre></div></div></div></div></div>"
      ],
      "text/plain": [
       "RandomForestRegressor()"
      ]
     },
     "execution_count": 29,
     "metadata": {},
     "output_type": "execute_result"
    }
   ],
   "source": [
    "from sklearn.ensemble import RandomForestRegressor\n",
    "\n",
    "rf_model = RandomForestRegressor()\n",
    "\n",
    "# Fitting the model on the train data\n",
    "rf_model.fit(x_train, target_train)\n"
   ]
  },
  {
   "cell_type": "code",
   "execution_count": 30,
   "id": "390730c2",
   "metadata": {},
   "outputs": [
    {
     "name": "stdout",
     "output_type": "stream",
     "text": [
      "R2 of random forest regressor:  0.9904717120289468\n",
      "RMSE of random forest regressor:  0.24704908780331994\n",
      "MAE of random forest regressor:  0.19359805653710288\n",
      "R2 of random forest regressor (train data):  0.9985166305596628\n",
      "RMSE of random forest regressor (train data):  0.0963829853624276\n",
      "MAE of random forest regressor (train data):  0.07445358090185658\n"
     ]
    }
   ],
   "source": [
    "from sklearn.metrics import r2_score, mean_squared_error, mean_absolute_error\n",
    "import math\n",
    "# creating prediction from test and train set using the model\n",
    "rf_predictions = rf_model.predict(x_test)\n",
    "rf_predictions_train = rf_model.predict(x_train)\n",
    "\n",
    "# calculating the r2, rmse, and mae using sklearn metrics\n",
    "rf_r2_test = r2_score(target_test, rf_predictions)\n",
    "rf_rmse_test = mean_squared_error(target_test, rf_predictions)\n",
    "rf_mae_test = mean_absolute_error(target_test, rf_predictions)\n",
    "\n",
    "print('R2 of random forest regressor: ', rf_r2_test)\n",
    "# getting square root of mse for rmse\n",
    "print('RMSE of random forest regressor: ', math.sqrt(rf_rmse_test))\n",
    "print('MAE of random forest regressor: ', rf_mae_test)\n",
    "\n",
    "# calculating the r2, rmse, and mae using sklearn metrics\n",
    "rf_r2_train = r2_score(target_train, rf_predictions_train)\n",
    "rf_rmse_train = mean_squared_error(target_train, rf_predictions_train)\n",
    "rf_mae_train = mean_absolute_error(target_train, rf_predictions_train)\n",
    "\n",
    "print('R2 of random forest regressor (train data): ', rf_r2_train)\n",
    "# getting square root of mse for rmse\n",
    "print('RMSE of random forest regressor (train data): ', math.sqrt(rf_rmse_train))\n",
    "print('MAE of random forest regressor (train data): ', rf_mae_train)"
   ]
  },
  {
   "cell_type": "markdown",
   "id": "13288abe",
   "metadata": {},
   "source": [
    "### Random Forest Regressor Analysis\n",
    "\n",
    "The R2 for the test and train set are both .99. Given both values are in close range I can assume overfitting isn't a major issue. The RMSE and MAE values are also very small (~.25 & ~.2 for the test set) meaning, when the model did make an incorrect prediction, the magnitude of the error was small. Similarly we do see smaller RMSE and MAE values for the train set which is expected since the model should perform better on the data it was trained with."
   ]
  },
  {
   "cell_type": "markdown",
   "id": "668474be",
   "metadata": {},
   "source": [
    "## Linear Regression"
   ]
  },
  {
   "cell_type": "code",
   "execution_count": 31,
   "id": "9fc5115e",
   "metadata": {},
   "outputs": [],
   "source": [
    "from sklearn.linear_model import LinearRegression\n",
    "\n",
    "lr = LinearRegression()\n",
    "\n",
    "lr.fit(x_train, target_train)\n",
    "\n",
    "# creating prediction from test set using the model\n",
    "predictions_lr = lr.predict(x_test)\n",
    "predictions_lr_train = lr.predict(x_train)"
   ]
  },
  {
   "cell_type": "code",
   "execution_count": 32,
   "id": "fee64a6f",
   "metadata": {},
   "outputs": [
    {
     "name": "stdout",
     "output_type": "stream",
     "text": [
      "R2 of Linear Regression:  0.989532212144854\n",
      "RMSE of Linear Regression:  0.06705119888591485\n",
      "MAE of tLinear Regressionest 0.21397741686090924\n",
      "R2 of Linear Regression (train data):  0.9885743561221476\n",
      "RMSE of Linear Regression (train data):  0.07155370133534888\n",
      "MAE of Linear Regression (train data): 0.2224496203998265\n"
     ]
    }
   ],
   "source": [
    "# calculating the r2, rmse, and mae using sklearn metrics\n",
    "r2_test = r2_score(target_test, predictions_lr)\n",
    "rmse_test = mean_squared_error(target_test, predictions_lr)\n",
    "mae_test = mean_absolute_error(target_test, predictions_lr)\n",
    "# same for train data\n",
    "r2_train = r2_score(target_train, predictions_lr_train)\n",
    "rmse_train = mean_squared_error(target_train, predictions_lr_train)\n",
    "mae_train = mean_absolute_error(target_train, predictions_lr_train)\n",
    "print('R2 of Linear Regression: ', r2_test)\n",
    "print('RMSE of Linear Regression: ', rmse_test)\n",
    "print('MAE of tLinear Regressionest', mae_test)\n",
    "print('R2 of Linear Regression (train data): ', r2_train)\n",
    "print('RMSE of Linear Regression (train data): ', rmse_train)\n",
    "print('MAE of Linear Regression (train data):', mae_train)"
   ]
  },
  {
   "cell_type": "markdown",
   "id": "456b50ea",
   "metadata": {},
   "source": [
    "### Linear Regression Analysis\n",
    "\n",
    "The R2 value for the test and train set are both .98. Given both values are in close range I can assume overfitting isn't a major issue for this model either. The RMSE and MAE values are also very small (~.07 & ~.2 for the test set). This is interesting because while the R2 value is slightly smaller, the RMSE and MAE values are smaller as well. This could mean that there is some overfitting in the Random Forest Regressor, because the Linear Regression model, when incorrect, had a smaller magnitude of error. This could mean that the Linear Regression Model may perform better at scale. Given this analysis I think it would be best to use a pipeline with a grid search to find the best model/parameters."
   ]
  },
  {
   "cell_type": "markdown",
   "id": "cbcb8947",
   "metadata": {},
   "source": [
    "## Using Pipeline and Grid Search to Help Find Best Parameters and Model"
   ]
  },
  {
   "cell_type": "code",
   "execution_count": 33,
   "id": "351c388f",
   "metadata": {},
   "outputs": [],
   "source": [
    "from sklearn.pipeline import Pipeline\n",
    "from sklearn.preprocessing import StandardScaler\n",
    "from sklearn.metrics import accuracy_score\n",
    "from sklearn.model_selection import GridSearchCV\n",
    "\n",
    "# Creating a Pipeline with a standard scaler and LinearRegression model\n",
    "\n",
    "lr_pipe = LinearRegression()\n",
    "scaler = StandardScaler()\n",
    "\n",
    "\n",
    "pipeline = Pipeline([(\"scaler\", scaler), (\"regressor\", lr_pipe)])\n",
    "\n",
    "# create search space with different parameters for each regression model (linear and random forest)\n",
    "search_space = {'regressor': [RandomForestRegressor()],'regressor__n_estimators': [10,100,1000],\n",
    "               'regressor__max_features': [1,2,3]}\n",
    "\n",
    "\n",
    "grid_search = GridSearchCV(pipeline, search_space, cv=5, verbose=0)"
   ]
  },
  {
   "cell_type": "code",
   "execution_count": 34,
   "id": "73232b0f",
   "metadata": {},
   "outputs": [
    {
     "name": "stdout",
     "output_type": "stream",
     "text": [
      "Pipeline(steps=[('scaler', StandardScaler()),\n",
      "                ('regressor',\n",
      "                 RandomForestRegressor(max_features=3, n_estimators=1000))])\n"
     ]
    }
   ],
   "source": [
    "# best model hyperparameters\n",
    "best_model = grid_search.fit(x_train, target_train)\n",
    "print(best_model.best_estimator_)"
   ]
  },
  {
   "cell_type": "code",
   "execution_count": 35,
   "id": "8440287c",
   "metadata": {},
   "outputs": [
    {
     "data": {
      "text/html": [
       "<style>#sk-container-id-2 {color: black;background-color: white;}#sk-container-id-2 pre{padding: 0;}#sk-container-id-2 div.sk-toggleable {background-color: white;}#sk-container-id-2 label.sk-toggleable__label {cursor: pointer;display: block;width: 100%;margin-bottom: 0;padding: 0.3em;box-sizing: border-box;text-align: center;}#sk-container-id-2 label.sk-toggleable__label-arrow:before {content: \"▸\";float: left;margin-right: 0.25em;color: #696969;}#sk-container-id-2 label.sk-toggleable__label-arrow:hover:before {color: black;}#sk-container-id-2 div.sk-estimator:hover label.sk-toggleable__label-arrow:before {color: black;}#sk-container-id-2 div.sk-toggleable__content {max-height: 0;max-width: 0;overflow: hidden;text-align: left;background-color: #f0f8ff;}#sk-container-id-2 div.sk-toggleable__content pre {margin: 0.2em;color: black;border-radius: 0.25em;background-color: #f0f8ff;}#sk-container-id-2 input.sk-toggleable__control:checked~div.sk-toggleable__content {max-height: 200px;max-width: 100%;overflow: auto;}#sk-container-id-2 input.sk-toggleable__control:checked~label.sk-toggleable__label-arrow:before {content: \"▾\";}#sk-container-id-2 div.sk-estimator input.sk-toggleable__control:checked~label.sk-toggleable__label {background-color: #d4ebff;}#sk-container-id-2 div.sk-label input.sk-toggleable__control:checked~label.sk-toggleable__label {background-color: #d4ebff;}#sk-container-id-2 input.sk-hidden--visually {border: 0;clip: rect(1px 1px 1px 1px);clip: rect(1px, 1px, 1px, 1px);height: 1px;margin: -1px;overflow: hidden;padding: 0;position: absolute;width: 1px;}#sk-container-id-2 div.sk-estimator {font-family: monospace;background-color: #f0f8ff;border: 1px dotted black;border-radius: 0.25em;box-sizing: border-box;margin-bottom: 0.5em;}#sk-container-id-2 div.sk-estimator:hover {background-color: #d4ebff;}#sk-container-id-2 div.sk-parallel-item::after {content: \"\";width: 100%;border-bottom: 1px solid gray;flex-grow: 1;}#sk-container-id-2 div.sk-label:hover label.sk-toggleable__label {background-color: #d4ebff;}#sk-container-id-2 div.sk-serial::before {content: \"\";position: absolute;border-left: 1px solid gray;box-sizing: border-box;top: 0;bottom: 0;left: 50%;z-index: 0;}#sk-container-id-2 div.sk-serial {display: flex;flex-direction: column;align-items: center;background-color: white;padding-right: 0.2em;padding-left: 0.2em;position: relative;}#sk-container-id-2 div.sk-item {position: relative;z-index: 1;}#sk-container-id-2 div.sk-parallel {display: flex;align-items: stretch;justify-content: center;background-color: white;position: relative;}#sk-container-id-2 div.sk-item::before, #sk-container-id-2 div.sk-parallel-item::before {content: \"\";position: absolute;border-left: 1px solid gray;box-sizing: border-box;top: 0;bottom: 0;left: 50%;z-index: -1;}#sk-container-id-2 div.sk-parallel-item {display: flex;flex-direction: column;z-index: 1;position: relative;background-color: white;}#sk-container-id-2 div.sk-parallel-item:first-child::after {align-self: flex-end;width: 50%;}#sk-container-id-2 div.sk-parallel-item:last-child::after {align-self: flex-start;width: 50%;}#sk-container-id-2 div.sk-parallel-item:only-child::after {width: 0;}#sk-container-id-2 div.sk-dashed-wrapped {border: 1px dashed gray;margin: 0 0.4em 0.5em 0.4em;box-sizing: border-box;padding-bottom: 0.4em;background-color: white;}#sk-container-id-2 div.sk-label label {font-family: monospace;font-weight: bold;display: inline-block;line-height: 1.2em;}#sk-container-id-2 div.sk-label-container {text-align: center;}#sk-container-id-2 div.sk-container {/* jupyter's `normalize.less` sets `[hidden] { display: none; }` but bootstrap.min.css set `[hidden] { display: none !important; }` so we also need the `!important` here to be able to override the default hidden behavior on the sphinx rendered scikit-learn.org. See: https://github.com/scikit-learn/scikit-learn/issues/21755 */display: inline-block !important;position: relative;}#sk-container-id-2 div.sk-text-repr-fallback {display: none;}</style><div id=\"sk-container-id-2\" class=\"sk-top-container\"><div class=\"sk-text-repr-fallback\"><pre>RandomForestRegressor(max_features=3, n_estimators=1000)</pre><b>In a Jupyter environment, please rerun this cell to show the HTML representation or trust the notebook. <br />On GitHub, the HTML representation is unable to render, please try loading this page with nbviewer.org.</b></div><div class=\"sk-container\" hidden><div class=\"sk-item\"><div class=\"sk-estimator sk-toggleable\"><input class=\"sk-toggleable__control sk-hidden--visually\" id=\"sk-estimator-id-2\" type=\"checkbox\" checked><label for=\"sk-estimator-id-2\" class=\"sk-toggleable__label sk-toggleable__label-arrow\">RandomForestRegressor</label><div class=\"sk-toggleable__content\"><pre>RandomForestRegressor(max_features=3, n_estimators=1000)</pre></div></div></div></div></div>"
      ],
      "text/plain": [
       "RandomForestRegressor(max_features=3, n_estimators=1000)"
      ]
     },
     "execution_count": 35,
     "metadata": {},
     "output_type": "execute_result"
    }
   ],
   "source": [
    "# Creating new model with parameters suggested by grid search\n",
    "\n",
    "new_rf = RandomForestRegressor(n_estimators=1000, max_features=3)\n",
    "\n",
    "# Fitting the model on the train data\n",
    "new_rf.fit(x_train, target_train)"
   ]
  },
  {
   "cell_type": "code",
   "execution_count": 36,
   "id": "18d04597",
   "metadata": {
    "scrolled": true
   },
   "outputs": [
    {
     "name": "stdout",
     "output_type": "stream",
     "text": [
      "R2 of random forest regressor (best params):  0.9860972769618509\n",
      "RMSE of random forest regressor (best params):  0.2984185068815411\n",
      "MAE of random forest regressor (best params):  0.21258294779325074\n",
      "R2 of random forest regressor (train data & best params):  0.9980946796881527\n",
      "RMSE of random forest regressor (train data & best params):  0.10923447075079604\n",
      "MAE of random forest regressor (train data & best params):  0.08127942546939561\n"
     ]
    }
   ],
   "source": [
    "# creating prediction from test and train set using the best model (from grid search)\n",
    "rf_predictions = new_rf.predict(x_test)\n",
    "rf_predictions_train = new_rf.predict(x_train)\n",
    "\n",
    "# calculating the r2, rmse, and mae using sklearn metrics\n",
    "rf_r2_test = r2_score(target_test, rf_predictions)\n",
    "rf_rmse_test = mean_squared_error(target_test, rf_predictions)\n",
    "rf_mae_test = mean_absolute_error(target_test, rf_predictions)\n",
    "\n",
    "print('R2 of random forest regressor (best params): ', rf_r2_test)\n",
    "# getting square root of mse for rmse\n",
    "print('RMSE of random forest regressor (best params): ', math.sqrt(rf_rmse_test))\n",
    "print('MAE of random forest regressor (best params): ', rf_mae_test)\n",
    "\n",
    "# calculating the r2, rmse, and mae using sklearn metrics\n",
    "rf_r2_train = r2_score(target_train, rf_predictions_train)\n",
    "rf_rmse_train = mean_squared_error(target_train, rf_predictions_train)\n",
    "rf_mae_train = mean_absolute_error(target_train, rf_predictions_train)\n",
    "\n",
    "print('R2 of random forest regressor (train data & best params): ', rf_r2_train)\n",
    "# getting square root of mse for rmse\n",
    "print('RMSE of random forest regressor (train data & best params): ', math.sqrt(rf_rmse_train))\n",
    "print('MAE of random forest regressor (train data & best params): ', rf_mae_train)"
   ]
  },
  {
   "cell_type": "markdown",
   "id": "34343a5c",
   "metadata": {},
   "source": [
    "### Analysis After Pipeline and Grid Search\n",
    "\n",
    "Overall I am satisfied with the results, with the R2 value being .98 for the test set. Given my suspicions that the original Random Forest Regressor was possibly over-fit (.99 R2 value), I feel more confident in the new model at scale. Additionally with the new model the RMSE and MAE values are still relatively small (.29 and .2), meaning there was not much of an increase in error magnitude."
   ]
  },
  {
   "cell_type": "markdown",
   "id": "fe29526f",
   "metadata": {},
   "source": [
    "## Evaluating Feature Importance"
   ]
  },
  {
   "cell_type": "code",
   "execution_count": 37,
   "id": "d3c15b49",
   "metadata": {},
   "outputs": [
    {
     "data": {
      "text/plain": [
       "<BarContainer object of 23 artists>"
      ]
     },
     "execution_count": 37,
     "metadata": {},
     "output_type": "execute_result"
    },
    {
     "data": {
      "image/png": "[encoded data removed]",
      "text/plain": [
       "<Figure size 640x480 with 1 Axes>"
      ]
     },
     "metadata": {},
     "output_type": "display_data"
    }
   ],
   "source": [
    "plt.barh(x_train.columns, new_rf.feature_importances_)"
   ]
  },
  {
   "cell_type": "markdown",
   "id": "8cd4c496",
   "metadata": {},
   "source": [
    "### Elvaluating Charge Time\n",
    "\n",
    "Given charge time has a high level of importance, I want to see if there is a positive or negative correlation."
   ]
  },
  {
   "cell_type": "code",
   "execution_count": 38,
   "id": "16d72e94",
   "metadata": {},
   "outputs": [
    {
     "data": {
      "image/png": "[encoded data removed]",
      "text/plain": [
       "<Figure size 640x480 with 1 Axes>"
      ]
     },
     "metadata": {},
     "output_type": "display_data"
    }
   ],
   "source": [
    "plt.scatter(clean_df['chargeTimeHrs'], clean_df['kwhTotal'])\n",
    "plt.xlabel('Charge Time Hrs')\n",
    "plt.ylabel('kWh')\n",
    "plt.show()"
   ]
  },
  {
   "cell_type": "markdown",
   "id": "c9c62012",
   "metadata": {},
   "source": [
    "While there is a positive correlation with charge time and kWh, which would seem obvious given the more time spent charging the more energy used, we do actually see most of the highest energy usage take place below the middle value (4 hours). This would indicate most customers mat prefer to use stations that charge at a faster rate."
   ]
  }
 ],
 "metadata": {
  "kernelspec": {
   "display_name": "Python 3 (ipykernel)",
   "language": "python",
   "name": "python3"
  },
  "language_info": {
   "codemirror_mode": {
    "name": "ipython",
    "version": 3
   },
   "file_extension": ".py",
   "mimetype": "text/x-python",
   "name": "python",
   "nbconvert_exporter": "python",
   "pygments_lexer": "ipython3",
   "version": "3.10.9"
  }
 },
 "nbformat": 4,
 "nbformat_minor": 5
}
