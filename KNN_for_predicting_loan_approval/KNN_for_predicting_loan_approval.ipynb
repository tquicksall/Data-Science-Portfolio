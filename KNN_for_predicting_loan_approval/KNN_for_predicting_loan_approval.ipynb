{
 "cells": [
  {
   "cell_type": "markdown",
   "id": "564594a2",
   "metadata": {},
   "source": [
    "# Troy Quicksall\n",
    "# K-Nearest-Neighbor for Loan Approval Prediction"
   ]
  },
  {
   "cell_type": "markdown",
   "id": "4344379e",
   "metadata": {},
   "source": [
    "## 1. Importing the dataset and ensure that it loaded properly."
   ]
  },
  {
   "cell_type": "code",
   "execution_count": 1,
   "id": "df3212cb",
   "metadata": {},
   "outputs": [
    {
     "data": {
      "text/html": [
       "<div>\n",
       "<style scoped>\n",
       "    .dataframe tbody tr th:only-of-type {\n",
       "        vertical-align: middle;\n",
       "    }\n",
       "\n",
       "    .dataframe tbody tr th {\n",
       "        vertical-align: top;\n",
       "    }\n",
       "\n",
       "    .dataframe thead th {\n",
       "        text-align: right;\n",
       "    }\n",
       "</style>\n",
       "<table border=\"1\" class=\"dataframe\">\n",
       "  <thead>\n",
       "    <tr style=\"text-align: right;\">\n",
       "      <th></th>\n",
       "      <th>Loan_ID</th>\n",
       "      <th>Gender</th>\n",
       "      <th>Married</th>\n",
       "      <th>Dependents</th>\n",
       "      <th>Education</th>\n",
       "      <th>Self_Employed</th>\n",
       "      <th>ApplicantIncome</th>\n",
       "      <th>CoapplicantIncome</th>\n",
       "      <th>LoanAmount</th>\n",
       "      <th>Loan_Amount_Term</th>\n",
       "      <th>Credit_History</th>\n",
       "      <th>Property_Area</th>\n",
       "      <th>Loan_Status</th>\n",
       "    </tr>\n",
       "  </thead>\n",
       "  <tbody>\n",
       "    <tr>\n",
       "      <th>0</th>\n",
       "      <td>LP001002</td>\n",
       "      <td>Male</td>\n",
       "      <td>No</td>\n",
       "      <td>0</td>\n",
       "      <td>Graduate</td>\n",
       "      <td>No</td>\n",
       "      <td>5849</td>\n",
       "      <td>0.0</td>\n",
       "      <td>NaN</td>\n",
       "      <td>360.0</td>\n",
       "      <td>1.0</td>\n",
       "      <td>Urban</td>\n",
       "      <td>Y</td>\n",
       "    </tr>\n",
       "    <tr>\n",
       "      <th>1</th>\n",
       "      <td>LP001003</td>\n",
       "      <td>Male</td>\n",
       "      <td>Yes</td>\n",
       "      <td>1</td>\n",
       "      <td>Graduate</td>\n",
       "      <td>No</td>\n",
       "      <td>4583</td>\n",
       "      <td>1508.0</td>\n",
       "      <td>128.0</td>\n",
       "      <td>360.0</td>\n",
       "      <td>1.0</td>\n",
       "      <td>Rural</td>\n",
       "      <td>N</td>\n",
       "    </tr>\n",
       "    <tr>\n",
       "      <th>2</th>\n",
       "      <td>LP001005</td>\n",
       "      <td>Male</td>\n",
       "      <td>Yes</td>\n",
       "      <td>0</td>\n",
       "      <td>Graduate</td>\n",
       "      <td>Yes</td>\n",
       "      <td>3000</td>\n",
       "      <td>0.0</td>\n",
       "      <td>66.0</td>\n",
       "      <td>360.0</td>\n",
       "      <td>1.0</td>\n",
       "      <td>Urban</td>\n",
       "      <td>Y</td>\n",
       "    </tr>\n",
       "    <tr>\n",
       "      <th>3</th>\n",
       "      <td>LP001006</td>\n",
       "      <td>Male</td>\n",
       "      <td>Yes</td>\n",
       "      <td>0</td>\n",
       "      <td>Not Graduate</td>\n",
       "      <td>No</td>\n",
       "      <td>2583</td>\n",
       "      <td>2358.0</td>\n",
       "      <td>120.0</td>\n",
       "      <td>360.0</td>\n",
       "      <td>1.0</td>\n",
       "      <td>Urban</td>\n",
       "      <td>Y</td>\n",
       "    </tr>\n",
       "    <tr>\n",
       "      <th>4</th>\n",
       "      <td>LP001008</td>\n",
       "      <td>Male</td>\n",
       "      <td>No</td>\n",
       "      <td>0</td>\n",
       "      <td>Graduate</td>\n",
       "      <td>No</td>\n",
       "      <td>6000</td>\n",
       "      <td>0.0</td>\n",
       "      <td>141.0</td>\n",
       "      <td>360.0</td>\n",
       "      <td>1.0</td>\n",
       "      <td>Urban</td>\n",
       "      <td>Y</td>\n",
       "    </tr>\n",
       "  </tbody>\n",
       "</table>\n",
       "</div>"
      ],
      "text/plain": [
       "    Loan_ID Gender Married Dependents     Education Self_Employed  \\\n",
       "0  LP001002   Male      No          0      Graduate            No   \n",
       "1  LP001003   Male     Yes          1      Graduate            No   \n",
       "2  LP001005   Male     Yes          0      Graduate           Yes   \n",
       "3  LP001006   Male     Yes          0  Not Graduate            No   \n",
       "4  LP001008   Male      No          0      Graduate            No   \n",
       "\n",
       "   ApplicantIncome  CoapplicantIncome  LoanAmount  Loan_Amount_Term  \\\n",
       "0             5849                0.0         NaN             360.0   \n",
       "1             4583             1508.0       128.0             360.0   \n",
       "2             3000                0.0        66.0             360.0   \n",
       "3             2583             2358.0       120.0             360.0   \n",
       "4             6000                0.0       141.0             360.0   \n",
       "\n",
       "   Credit_History Property_Area Loan_Status  \n",
       "0             1.0         Urban           Y  \n",
       "1             1.0         Rural           N  \n",
       "2             1.0         Urban           Y  \n",
       "3             1.0         Urban           Y  \n",
       "4             1.0         Urban           Y  "
      ]
     },
     "execution_count": 1,
     "metadata": {},
     "output_type": "execute_result"
    }
   ],
   "source": [
    "import pandas as pd\n",
    "\n",
    "loan_df = pd.read_csv('Loan_Train.csv')\n",
    "loan_df.head()"
   ]
  },
  {
   "cell_type": "markdown",
   "id": "e9b9834f",
   "metadata": {},
   "source": [
    "## 2. Preparing the data for modeling by performing the following steps:\n",
    "Drop the column “Load_ID.”\n",
    "Drop any rows with missing data.\n",
    "Convert the categorical features into dummy variables."
   ]
  },
  {
   "cell_type": "code",
   "execution_count": 2,
   "id": "996384b2",
   "metadata": {},
   "outputs": [
    {
     "data": {
      "text/plain": [
       "Loan_ID               object\n",
       "Gender                object\n",
       "Married               object\n",
       "Dependents            object\n",
       "Education             object\n",
       "Self_Employed         object\n",
       "ApplicantIncome        int64\n",
       "CoapplicantIncome    float64\n",
       "LoanAmount           float64\n",
       "Loan_Amount_Term     float64\n",
       "Credit_History       float64\n",
       "Property_Area         object\n",
       "Loan_Status           object\n",
       "dtype: object"
      ]
     },
     "execution_count": 2,
     "metadata": {},
     "output_type": "execute_result"
    }
   ],
   "source": [
    "loan_df.dtypes"
   ]
  },
  {
   "cell_type": "code",
   "execution_count": 3,
   "id": "3a4aba3f",
   "metadata": {},
   "outputs": [
    {
     "data": {
      "text/html": [
       "<div>\n",
       "<style scoped>\n",
       "    .dataframe tbody tr th:only-of-type {\n",
       "        vertical-align: middle;\n",
       "    }\n",
       "\n",
       "    .dataframe tbody tr th {\n",
       "        vertical-align: top;\n",
       "    }\n",
       "\n",
       "    .dataframe thead th {\n",
       "        text-align: right;\n",
       "    }\n",
       "</style>\n",
       "<table border=\"1\" class=\"dataframe\">\n",
       "  <thead>\n",
       "    <tr style=\"text-align: right;\">\n",
       "      <th></th>\n",
       "      <th>ApplicantIncome</th>\n",
       "      <th>CoapplicantIncome</th>\n",
       "      <th>LoanAmount</th>\n",
       "      <th>Loan_Amount_Term</th>\n",
       "      <th>Credit_History</th>\n",
       "      <th>Loan_Status</th>\n",
       "      <th>Gender_Female</th>\n",
       "      <th>Gender_Male</th>\n",
       "      <th>Married_No</th>\n",
       "      <th>Married_Yes</th>\n",
       "      <th>...</th>\n",
       "      <th>Dependents_1</th>\n",
       "      <th>Dependents_2</th>\n",
       "      <th>Dependents_3+</th>\n",
       "      <th>Education_Graduate</th>\n",
       "      <th>Education_Not Graduate</th>\n",
       "      <th>Self_Employed_No</th>\n",
       "      <th>Self_Employed_Yes</th>\n",
       "      <th>Property_Area_Rural</th>\n",
       "      <th>Property_Area_Semiurban</th>\n",
       "      <th>Property_Area_Urban</th>\n",
       "    </tr>\n",
       "  </thead>\n",
       "  <tbody>\n",
       "    <tr>\n",
       "      <th>1</th>\n",
       "      <td>4583</td>\n",
       "      <td>1508.0</td>\n",
       "      <td>128.0</td>\n",
       "      <td>360.0</td>\n",
       "      <td>1.0</td>\n",
       "      <td>N</td>\n",
       "      <td>0</td>\n",
       "      <td>1</td>\n",
       "      <td>0</td>\n",
       "      <td>1</td>\n",
       "      <td>...</td>\n",
       "      <td>1</td>\n",
       "      <td>0</td>\n",
       "      <td>0</td>\n",
       "      <td>1</td>\n",
       "      <td>0</td>\n",
       "      <td>1</td>\n",
       "      <td>0</td>\n",
       "      <td>1</td>\n",
       "      <td>0</td>\n",
       "      <td>0</td>\n",
       "    </tr>\n",
       "    <tr>\n",
       "      <th>2</th>\n",
       "      <td>3000</td>\n",
       "      <td>0.0</td>\n",
       "      <td>66.0</td>\n",
       "      <td>360.0</td>\n",
       "      <td>1.0</td>\n",
       "      <td>Y</td>\n",
       "      <td>0</td>\n",
       "      <td>1</td>\n",
       "      <td>0</td>\n",
       "      <td>1</td>\n",
       "      <td>...</td>\n",
       "      <td>0</td>\n",
       "      <td>0</td>\n",
       "      <td>0</td>\n",
       "      <td>1</td>\n",
       "      <td>0</td>\n",
       "      <td>0</td>\n",
       "      <td>1</td>\n",
       "      <td>0</td>\n",
       "      <td>0</td>\n",
       "      <td>1</td>\n",
       "    </tr>\n",
       "    <tr>\n",
       "      <th>3</th>\n",
       "      <td>2583</td>\n",
       "      <td>2358.0</td>\n",
       "      <td>120.0</td>\n",
       "      <td>360.0</td>\n",
       "      <td>1.0</td>\n",
       "      <td>Y</td>\n",
       "      <td>0</td>\n",
       "      <td>1</td>\n",
       "      <td>0</td>\n",
       "      <td>1</td>\n",
       "      <td>...</td>\n",
       "      <td>0</td>\n",
       "      <td>0</td>\n",
       "      <td>0</td>\n",
       "      <td>0</td>\n",
       "      <td>1</td>\n",
       "      <td>1</td>\n",
       "      <td>0</td>\n",
       "      <td>0</td>\n",
       "      <td>0</td>\n",
       "      <td>1</td>\n",
       "    </tr>\n",
       "    <tr>\n",
       "      <th>4</th>\n",
       "      <td>6000</td>\n",
       "      <td>0.0</td>\n",
       "      <td>141.0</td>\n",
       "      <td>360.0</td>\n",
       "      <td>1.0</td>\n",
       "      <td>Y</td>\n",
       "      <td>0</td>\n",
       "      <td>1</td>\n",
       "      <td>1</td>\n",
       "      <td>0</td>\n",
       "      <td>...</td>\n",
       "      <td>0</td>\n",
       "      <td>0</td>\n",
       "      <td>0</td>\n",
       "      <td>1</td>\n",
       "      <td>0</td>\n",
       "      <td>1</td>\n",
       "      <td>0</td>\n",
       "      <td>0</td>\n",
       "      <td>0</td>\n",
       "      <td>1</td>\n",
       "    </tr>\n",
       "    <tr>\n",
       "      <th>5</th>\n",
       "      <td>5417</td>\n",
       "      <td>4196.0</td>\n",
       "      <td>267.0</td>\n",
       "      <td>360.0</td>\n",
       "      <td>1.0</td>\n",
       "      <td>Y</td>\n",
       "      <td>0</td>\n",
       "      <td>1</td>\n",
       "      <td>0</td>\n",
       "      <td>1</td>\n",
       "      <td>...</td>\n",
       "      <td>0</td>\n",
       "      <td>1</td>\n",
       "      <td>0</td>\n",
       "      <td>1</td>\n",
       "      <td>0</td>\n",
       "      <td>0</td>\n",
       "      <td>1</td>\n",
       "      <td>0</td>\n",
       "      <td>0</td>\n",
       "      <td>1</td>\n",
       "    </tr>\n",
       "  </tbody>\n",
       "</table>\n",
       "<p>5 rows × 21 columns</p>\n",
       "</div>"
      ],
      "text/plain": [
       "   ApplicantIncome  CoapplicantIncome  LoanAmount  Loan_Amount_Term  \\\n",
       "1             4583             1508.0       128.0             360.0   \n",
       "2             3000                0.0        66.0             360.0   \n",
       "3             2583             2358.0       120.0             360.0   \n",
       "4             6000                0.0       141.0             360.0   \n",
       "5             5417             4196.0       267.0             360.0   \n",
       "\n",
       "   Credit_History Loan_Status  Gender_Female  Gender_Male  Married_No  \\\n",
       "1             1.0           N              0            1           0   \n",
       "2             1.0           Y              0            1           0   \n",
       "3             1.0           Y              0            1           0   \n",
       "4             1.0           Y              0            1           1   \n",
       "5             1.0           Y              0            1           0   \n",
       "\n",
       "   Married_Yes  ...  Dependents_1  Dependents_2  Dependents_3+  \\\n",
       "1            1  ...             1             0              0   \n",
       "2            1  ...             0             0              0   \n",
       "3            1  ...             0             0              0   \n",
       "4            0  ...             0             0              0   \n",
       "5            1  ...             0             1              0   \n",
       "\n",
       "   Education_Graduate  Education_Not Graduate  Self_Employed_No  \\\n",
       "1                   1                       0                 1   \n",
       "2                   1                       0                 0   \n",
       "3                   0                       1                 1   \n",
       "4                   1                       0                 1   \n",
       "5                   1                       0                 0   \n",
       "\n",
       "   Self_Employed_Yes  Property_Area_Rural  Property_Area_Semiurban  \\\n",
       "1                  0                    1                        0   \n",
       "2                  1                    0                        0   \n",
       "3                  0                    0                        0   \n",
       "4                  0                    0                        0   \n",
       "5                  1                    0                        0   \n",
       "\n",
       "   Property_Area_Urban  \n",
       "1                    0  \n",
       "2                    1  \n",
       "3                    1  \n",
       "4                    1  \n",
       "5                    1  \n",
       "\n",
       "[5 rows x 21 columns]"
      ]
     },
     "execution_count": 3,
     "metadata": {},
     "output_type": "execute_result"
    }
   ],
   "source": [
    "# dropping 'Loan_ID'\n",
    "loan_df = loan_df.drop('Loan_ID', axis=1)\n",
    "# Dropping any rows with missing data using dropna\n",
    "loan_df = loan_df.dropna()\n",
    "# Converting categorical features to dummy\n",
    "\n",
    "def convert_to_dummy(df):\n",
    "    cat_columns = []\n",
    "    for col in df.columns:\n",
    "        # if column is object type, but not the target variable\n",
    "        if df.dtypes[col] == 'O' and col != 'Loan_Status':\n",
    "            cat_columns.append(col)\n",
    "    df = pd.get_dummies(df, prefix=cat_columns, columns=cat_columns)\n",
    "    return df\n",
    "\n",
    "loan_df = convert_to_dummy(loan_df)\n",
    "\n",
    "loan_df.head()"
   ]
  },
  {
   "cell_type": "markdown",
   "id": "8c85c443",
   "metadata": {},
   "source": [
    "## 3. Splitting the data into a training and test set, with the “Loan_Status” column as the target."
   ]
  },
  {
   "cell_type": "code",
   "execution_count": 4,
   "id": "b60225e9",
   "metadata": {},
   "outputs": [],
   "source": [
    "from sklearn.model_selection import train_test_split\n",
    "x_data = loan_df.drop(['Loan_Status'], axis=1)\n",
    "target_data = loan_df['Loan_Status']\n",
    "# splitting the data using sklearn\n",
    "# using 20% as test size\n",
    "x_train, x_test, target_train, target_test = train_test_split(x_data,\n",
    "                                                              target_data, test_size=0.2, random_state=42)"
   ]
  },
  {
   "cell_type": "markdown",
   "id": "3ba84b3e",
   "metadata": {},
   "source": [
    "## 4. Creating a pipeline with a min-max scaler and a KNN classifier "
   ]
  },
  {
   "cell_type": "code",
   "execution_count": 5,
   "id": "0f5dba84",
   "metadata": {},
   "outputs": [],
   "source": [
    "from sklearn.preprocessing import MinMaxScaler\n",
    "from sklearn.neighbors import KNeighborsClassifier\n",
    "from sklearn.pipeline import Pipeline\n",
    "\n",
    "mm_scaler = MinMaxScaler()\n",
    "knn = KNeighborsClassifier()\n",
    "\n",
    "pipeline = Pipeline([(\"scaler\", mm_scaler), (\"classifier\", knn)])"
   ]
  },
  {
   "cell_type": "markdown",
   "id": "0d6bd453",
   "metadata": {},
   "source": [
    "## 5. Fit a default KNN classifier to the data with this pipeline"
   ]
  },
  {
   "cell_type": "code",
   "execution_count": 6,
   "id": "ec6f889f",
   "metadata": {},
   "outputs": [
    {
     "name": "stdout",
     "output_type": "stream",
     "text": [
      "Model accuracy:  0.78125\n"
     ]
    }
   ],
   "source": [
    "from sklearn.metrics import accuracy_score\n",
    "\n",
    "# fitting the pipeline model\n",
    "pipeline.fit(x_train, target_train)\n",
    "\n",
    "\n",
    "# using the accuracy_score to get the model's accuracy \n",
    "predictions = pipeline.predict(x_test)\n",
    "accuracy = accuracy_score(target_test, predictions)\n",
    "print('Model accuracy: ', accuracy)"
   ]
  },
  {
   "cell_type": "markdown",
   "id": "f726699a",
   "metadata": {},
   "source": [
    "## 6. Create a search space for  KNN classifier where your “n_neighbors” parameter varies from 1 to 10"
   ]
  },
  {
   "cell_type": "code",
   "execution_count": 7,
   "id": "f9fa9900",
   "metadata": {},
   "outputs": [],
   "source": [
    "# create search space with candidate values ranges from 1-10\n",
    "search_space = [{'classifier__n_neighbors': [1,2,3,4,5,6,7,8,9,10]}]\n",
    "\n"
   ]
  },
  {
   "cell_type": "markdown",
   "id": "4c087fee",
   "metadata": {},
   "source": [
    "## 7. Fitting a grid search with pipeline, search space, and 5-fold cross-validation to find the best value for the “n_neighbors” parameter"
   ]
  },
  {
   "cell_type": "code",
   "execution_count": 8,
   "id": "c598f853",
   "metadata": {},
   "outputs": [],
   "source": [
    "from sklearn.model_selection import GridSearchCV\n",
    "\n",
    "# using grid search with our pipeline, search space with k=1-10 and cross validation = 5 fold\n",
    "grid_search = GridSearchCV(pipeline, search_space, cv=5, verbose=0)\n",
    "best_model = grid_search.fit(x_train, target_train)"
   ]
  },
  {
   "cell_type": "code",
   "execution_count": 9,
   "id": "3d46c616",
   "metadata": {},
   "outputs": [
    {
     "data": {
      "text/plain": [
       "9"
      ]
     },
     "execution_count": 9,
     "metadata": {},
     "output_type": "execute_result"
    }
   ],
   "source": [
    "# using best estimator to find the best 'n_neighbors value'\n",
    "best_model.best_estimator_.get_params()['classifier__n_neighbors']"
   ]
  },
  {
   "cell_type": "markdown",
   "id": "544d7a63",
   "metadata": {},
   "source": [
    "9 is the best n_neighbors value"
   ]
  },
  {
   "cell_type": "markdown",
   "id": "f3877d4c",
   "metadata": {},
   "source": [
    "## 8. Finding the accuracy of the grid search best model on the test set"
   ]
  },
  {
   "cell_type": "code",
   "execution_count": 10,
   "id": "aba0c100",
   "metadata": {},
   "outputs": [
    {
     "name": "stdout",
     "output_type": "stream",
     "text": [
      "Model accuracy:  0.75\n"
     ]
    }
   ],
   "source": [
    "\n",
    "predictions_grid = best_model.predict(x_test)\n",
    "accuracy = accuracy_score(target_test, predictions_grid)\n",
    "print('Model accuracy: ', accuracy)"
   ]
  },
  {
   "cell_type": "markdown",
   "id": "5c5304c9",
   "metadata": {},
   "source": [
    "## 9. Now, repeating steps 6 and 7 with the same pipeline, but expanding search space to include logistic regression and random forest models with the hyperparameter values"
   ]
  },
  {
   "cell_type": "code",
   "execution_count": 11,
   "id": "13d54b0e",
   "metadata": {},
   "outputs": [],
   "source": [
    "from sklearn.linear_model import LogisticRegression\n",
    "from sklearn.ensemble import RandomForestClassifier\n",
    "import numpy as np\n",
    "\n",
    "#pipeline.steps.append(['classifier',LogisticRegression()])\n",
    "\n",
    "# create search space to include LogisticRegression and RandomForestClassifier with values from 12.3 of book\n",
    "search_space_new = [{'classifier': [LogisticRegression(max_iter=500, solver='liblinear')],\n",
    "                 'classifier__penalty': ['l1', 'l2'], 'classifier__C': np.logspace(0,4,10)},\n",
    "               {'classifier': [RandomForestClassifier()], 'classifier__n_estimators': [10,100,1000],\n",
    "               'classifier__max_features': [1,2,3]}]\n",
    "\n",
    "\n",
    "grid_search = GridSearchCV(pipeline, search_space_new, cv=5, verbose=0)"
   ]
  },
  {
   "cell_type": "code",
   "execution_count": 12,
   "id": "225e3bbd",
   "metadata": {},
   "outputs": [
    {
     "name": "stdout",
     "output_type": "stream",
     "text": [
      "Pipeline(steps=[('scaler', MinMaxScaler()),\n",
      "                ('classifier',\n",
      "                 LogisticRegression(C=2.7825594022071245, max_iter=500,\n",
      "                                    solver='liblinear'))])\n"
     ]
    }
   ],
   "source": [
    "# best model hyperparameters\n",
    "best_model = grid_search.fit(x_train, target_train)\n",
    "print(best_model.best_estimator_)"
   ]
  },
  {
   "cell_type": "code",
   "execution_count": 13,
   "id": "56f6050a",
   "metadata": {},
   "outputs": [
    {
     "name": "stdout",
     "output_type": "stream",
     "text": [
      "Model accuracy:  0.8229166666666666\n"
     ]
    }
   ],
   "source": [
    "# getting best model accuracy\n",
    "predictions_best = best_model.predict(x_test)\n",
    "accuracy = accuracy_score(target_test, predictions_best)\n",
    "print('Model accuracy: ', accuracy)"
   ]
  },
  {
   "cell_type": "markdown",
   "id": "23c0f84c",
   "metadata": {},
   "source": [
    "The best model and hyperparameters is the Logistic regression with (C=2.7825594022071245, max_iter=500,\n",
    "                                    solver='liblinear')"
   ]
  },
  {
   "cell_type": "markdown",
   "id": "588e8a0c",
   "metadata": {},
   "source": [
    "## 11. Summary of Results"
   ]
  },
  {
   "cell_type": "markdown",
   "id": "d0d2bd3f",
   "metadata": {},
   "source": [
    "In the first few steps we found the best hyperparameters for the KNN classification model. However, there was no improvement in the model. This means that possibly, KNN is not the best model algorithm to use. We then included other models in the search space (LogisticRegression and RandomForest), along with their own hyperparameter candidates. By doing this we found which model and with which hyperparameters leads to the best accuracy, which in this case was Logistic regression with parameters: (C=2.7825594022071245, max_iter=500, solver='liblinear')."
   ]
  },
  {
   "cell_type": "code",
   "execution_count": null,
   "id": "c26ef0bb",
   "metadata": {},
   "outputs": [],
   "source": []
  }
 ],
 "metadata": {
  "kernelspec": {
   "display_name": "Python 3 (ipykernel)",
   "language": "python",
   "name": "python3"
  },
  "language_info": {
   "codemirror_mode": {
    "name": "ipython",
    "version": 3
   },
   "file_extension": ".py",
   "mimetype": "text/x-python",
   "name": "python",
   "nbconvert_exporter": "python",
   "pygments_lexer": "ipython3",
   "version": "3.10.9"
  }
 },
 "nbformat": 4,
 "nbformat_minor": 5
}
